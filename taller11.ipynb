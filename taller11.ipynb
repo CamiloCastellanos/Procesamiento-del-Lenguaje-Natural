{
 "cells": [
  {
   "cell_type": "markdown",
   "metadata": {},
   "source": [
    "<img src='https://encrypted-tbn0.gstatic.com/images?q=tbn%3AANd9GcQ-VfNtOyJbsaxu43Kztf_cv1mgBG6ZIQZEVw&usqp=CAU'>\n",
    "\n",
    "# Procesamiento de Lenguage Natural\n",
    "\n",
    "## Taller #11: Twitter\n",
    "`Fecha de entrega: Mayo 20, 2021 (Antes del inicio de la próxima clase).`\n",
    "\n",
    "`Modo de entrega: Subir link de GitHub al aula virtual.`"
   ]
  },
  {
   "cell_type": "code",
   "execution_count": 1,
   "metadata": {},
   "outputs": [],
   "source": [
    "import pandas as pd\n",
    "import tweepy"
   ]
  },
  {
   "cell_type": "code",
   "execution_count": 2,
   "metadata": {},
   "outputs": [],
   "source": [
    "api_key = \"N1-Cr3a-Qu3-lE-D3jar3-La5\"\n",
    "api_secret_key = \"Cr3D3nc1al3s-\"\n",
    "access_token = \"Y-Much0-m3N0s-L0s-C0d1G0s\"\n",
    "access_token_secret =  \"D3-Acc355O\""
   ]
  },
  {
   "cell_type": "markdown",
   "metadata": {},
   "source": [
    "###  `[25 pts]` Punto 1: Extraer Tuits\n",
    "Extraer mínimo 100 tuits de Twitter usando la API\n",
    "\n",
    "❌ No escoger un tema de los que hicimos en clase (día de las madres, Giro de Italia, #EraGoldeYepes)"
   ]
  },
  {
   "cell_type": "code",
   "execution_count": 14,
   "metadata": {},
   "outputs": [],
   "source": [
    "# Autenticar a través de la API \n",
    "auth = tweepy.OAuthHandler(api_key, api_secret_key)\n",
    "auth.set_access_token(access_token, access_token_secret)\n",
    "api = tweepy.API(auth, wait_on_rate_limit=True)"
   ]
  },
  {
   "cell_type": "code",
   "execution_count": 15,
   "metadata": {},
   "outputs": [],
   "source": [
    "tweets = tweepy.Cursor(api.search,\n",
    "                       q=['#XboxGamePassUltimate -RT'],\n",
    "                       lang='es',\n",
    "                       # geocode='4.7110,-74.0721,100km', #Filtra por localizacion \n",
    "                       tweet_mode='extended',# Para que llegue el texto completo\n",
    "                       include_rts=False, # Para evitar que sea re tuits\n",
    "                       ).items(100)"
   ]
  },
  {
   "cell_type": "code",
   "execution_count": 16,
   "metadata": {},
   "outputs": [],
   "source": [
    "# Convirte la informacion en una lista\n",
    "tuits = [tweet for tweet in tweets]"
   ]
  },
  {
   "cell_type": "code",
   "execution_count": 18,
   "metadata": {},
   "outputs": [
    {
     "output_type": "execute_result",
     "data": {
      "text/plain": [
       "'Ya quisiera poder llegar a casa para seguir dándole al Hollow Knight.\\nSi aun no lo has probado, dale una oportunidad, no es un videojuego nuevo, pero sin duda alguna que es un gran videojuego. #xbox #xboxgamepass #XboxGamePassUltimate #xboxseriesX #HollowKnight #metroidvania https://t.co/YhPVyqstcc'"
      ]
     },
     "metadata": {},
     "execution_count": 18
    }
   ],
   "source": [
    "tuits[0].full_text"
   ]
  },
  {
   "cell_type": "markdown",
   "metadata": {},
   "source": [
    "###  `[25 pts]` Punto 2: Hacer una visualización sobre esos tuits"
   ]
  },
  {
   "cell_type": "code",
   "execution_count": null,
   "metadata": {},
   "outputs": [],
   "source": []
  }
 ],
 "metadata": {
  "kernelspec": {
   "name": "python379jvsc74a57bd0c51d22a6e700603606d0eacc0072ee59cf10084b737a530df8cd1ae37f92a519",
   "display_name": "Python 3.7.9 64-bit ('base': conda)"
  },
  "language_info": {
   "codemirror_mode": {
    "name": "ipython",
    "version": 3
   },
   "file_extension": ".py",
   "mimetype": "text/x-python",
   "name": "python",
   "nbconvert_exporter": "python",
   "pygments_lexer": "ipython3",
   "version": "3.7.9"
  }
 },
 "nbformat": 4,
 "nbformat_minor": 2
}