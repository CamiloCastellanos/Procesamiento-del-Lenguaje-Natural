{
 "cells": [
  {
   "cell_type": "markdown",
   "metadata": {},
   "source": [
    "<img src='https://encrypted-tbn0.gstatic.com/images?q=tbn%3AANd9GcQ-VfNtOyJbsaxu43Kztf_cv1mgBG6ZIQZEVw&usqp=CAU'>\n",
    "\n",
    "# Procesamiento de Lenguage Natural\n",
    "\n",
    "## Taller #11: Twitter\n",
    "`Fecha de entrega: Mayo 20, 2021 (Antes del inicio de la próxima clase).`\n",
    "\n",
    "`Modo de entrega: Subir link de GitHub al aula virtual.`"
   ]
  },
  {
   "cell_type": "code",
   "execution_count": 1,
   "metadata": {},
   "outputs": [],
   "source": [
    "import pandas as pd\n",
    "import tweepy\n",
    "import re \n",
    "import regex\n",
    "import emoji\n",
    "import plotly.io as pio\n",
    "import plotly.express as px\n",
    "import plotly.graph_objs as go\n",
    "from plotly.offline import download_plotlyjs, init_notebook_mode, plot, iplot"
   ]
  },
  {
   "cell_type": "code",
   "execution_count": 2,
   "metadata": {},
   "outputs": [],
   "source": [
    "api_key = \"N1-Cr3a-Qu3-lE-D3jar3-La5\"\n",
    "api_secret_key = \"Cr3D3nc1al3s-\"\n",
    "access_token = \"Y-Much0-m3N0s-L0s-C0d1G0s\"\n",
    "access_token_secret =  \"D3-Acc355O\""
   ]
  },
  {
   "cell_type": "markdown",
   "metadata": {},
   "source": [
    "###  `[25 pts]` Punto 1: Extraer Tuits\n",
    "Extraer mínimo 100 tuits de Twitter usando la API\n",
    "\n",
    "❌ No escoger un tema de los que hicimos en clase (día de las madres, Giro de Italia, #EraGoldeYepes)"
   ]
  },
  {
   "cell_type": "code",
   "execution_count": 14,
   "metadata": {},
   "outputs": [],
   "source": [
    "# Autenticar a través de la API \n",
    "auth = tweepy.OAuthHandler(api_key, api_secret_key)\n",
    "auth.set_access_token(access_token, access_token_secret)\n",
    "api = tweepy.API(auth, wait_on_rate_limit=True)"
   ]
  },
  {
   "cell_type": "code",
   "execution_count": 15,
   "metadata": {},
   "outputs": [],
   "source": [
    "tweets = tweepy.Cursor(api.search,\n",
    "                       q=['#XboxGamePassUltimate -RT'],\n",
    "                       lang='es',\n",
    "                       # geocode='4.7110,-74.0721,100km', #Filtra por localizacion \n",
    "                       tweet_mode='extended',# Para que llegue el texto completo\n",
    "                       include_rts=False, # Para evitar que sea re tuits\n",
    "                       ).items(100)"
   ]
  },
  {
   "cell_type": "code",
   "execution_count": 16,
   "metadata": {},
   "outputs": [],
   "source": [
    "# Convirte la informacion en una lista\n",
    "tuits = [tweet for tweet in tweets]"
   ]
  },
  {
   "cell_type": "code",
   "execution_count": 18,
   "metadata": {},
   "outputs": [
    {
     "output_type": "execute_result",
     "data": {
      "text/plain": [
       "'Ya quisiera poder llegar a casa para seguir dándole al Hollow Knight.\\nSi aun no lo has probado, dale una oportunidad, no es un videojuego nuevo, pero sin duda alguna que es un gran videojuego. #xbox #xboxgamepass #XboxGamePassUltimate #xboxseriesX #HollowKnight #metroidvania https://t.co/YhPVyqstcc'"
      ]
     },
     "metadata": {},
     "execution_count": 18
    }
   ],
   "source": [
    "tuits[0].full_text"
   ]
  },
  {
   "cell_type": "code",
   "execution_count": 20,
   "metadata": {},
   "outputs": [
    {
     "output_type": "execute_result",
     "data": {
      "text/plain": [
       "                                              tweets                date  \\\n",
       "0  Ya quisiera poder llegar a casa para seguir dá... 2021-05-19 23:54:26   \n",
       "1  Cometí el error de principiante de Game Pass! ... 2021-05-19 22:33:02   \n",
       "2  Quedan pocos días de mayo y muchos títulos nue... 2021-05-19 19:54:13   \n",
       "3  ¿ #XboxGamePassUltimate   en #NintendoSwitch ?... 2021-05-19 19:51:23   \n",
       "4  Amigo: Ven\\n\\nNosotros: No podemos\\n\\nAmigo: p... 2021-05-19 19:30:10   \n",
       "\n",
       "                    id                                               link  \n",
       "0  1395165984869212160  https://twitter.com/i/web/stuatus/139516598486...  \n",
       "1  1395145498969919492  https://twitter.com/i/web/stuatus/139514549896...  \n",
       "2  1395105533108097025  https://twitter.com/i/web/stuatus/139510553310...  \n",
       "3  1395104819967311875  https://twitter.com/i/web/stuatus/139510481996...  \n",
       "4  1395099478579892227  https://twitter.com/i/web/stuatus/139509947857...  "
      ],
      "text/html": "<div>\n<style scoped>\n    .dataframe tbody tr th:only-of-type {\n        vertical-align: middle;\n    }\n\n    .dataframe tbody tr th {\n        vertical-align: top;\n    }\n\n    .dataframe thead th {\n        text-align: right;\n    }\n</style>\n<table border=\"1\" class=\"dataframe\">\n  <thead>\n    <tr style=\"text-align: right;\">\n      <th></th>\n      <th>tweets</th>\n      <th>date</th>\n      <th>id</th>\n      <th>link</th>\n    </tr>\n  </thead>\n  <tbody>\n    <tr>\n      <th>0</th>\n      <td>Ya quisiera poder llegar a casa para seguir dá...</td>\n      <td>2021-05-19 23:54:26</td>\n      <td>1395165984869212160</td>\n      <td>https://twitter.com/i/web/stuatus/139516598486...</td>\n    </tr>\n    <tr>\n      <th>1</th>\n      <td>Cometí el error de principiante de Game Pass! ...</td>\n      <td>2021-05-19 22:33:02</td>\n      <td>1395145498969919492</td>\n      <td>https://twitter.com/i/web/stuatus/139514549896...</td>\n    </tr>\n    <tr>\n      <th>2</th>\n      <td>Quedan pocos días de mayo y muchos títulos nue...</td>\n      <td>2021-05-19 19:54:13</td>\n      <td>1395105533108097025</td>\n      <td>https://twitter.com/i/web/stuatus/139510553310...</td>\n    </tr>\n    <tr>\n      <th>3</th>\n      <td>¿ #XboxGamePassUltimate   en #NintendoSwitch ?...</td>\n      <td>2021-05-19 19:51:23</td>\n      <td>1395104819967311875</td>\n      <td>https://twitter.com/i/web/stuatus/139510481996...</td>\n    </tr>\n    <tr>\n      <th>4</th>\n      <td>Amigo: Ven\\n\\nNosotros: No podemos\\n\\nAmigo: p...</td>\n      <td>2021-05-19 19:30:10</td>\n      <td>1395099478579892227</td>\n      <td>https://twitter.com/i/web/stuatus/139509947857...</td>\n    </tr>\n  </tbody>\n</table>\n</div>"
     },
     "metadata": {},
     "execution_count": 20
    }
   ],
   "source": [
    "tweet = []\n",
    "\n",
    "for tuit in tuits: \n",
    "    temp = []\n",
    "    temp.append(tuit.full_text)\n",
    "    temp.append(tuit.created_at)\n",
    "    temp.append(tuit.id)\n",
    "    temp.append(f\"https://twitter.com/i/web/stuatus/{tuit.id}\")\n",
    "    \n",
    "    tweet.append(temp)\n",
    "    \n",
    "    \n",
    "data = pd.DataFrame(tweet)\n",
    "data.columns = ['tweets', 'date', 'id', 'link']\n",
    "data.head()"
   ]
  },
  {
   "cell_type": "code",
   "execution_count": 21,
   "metadata": {},
   "outputs": [],
   "source": [
    "pattern1 = '?P<pic>pic.twitter.com/[^\\s]+'\n",
    "pattern2 = '?P<url>https?://[^\\s]+'\n",
    "\n",
    "def text_clean(row):\n",
    "    text = row['tweets']\n",
    "    \n",
    "    links = [tuple(j for j in i if j)[-1] for i in re.findall(f\"({pattern1})|({pattern2})\",text)]\n",
    "    for link in links:\n",
    "        text = text.replace(link,\"\")\n",
    "    \n",
    "    hashtags = [interaction for interaction in text.split() if interaction.startswith(\"#\")]\n",
    "    for hashtag in hashtags:\n",
    "        text = text.replace(hashtag, \"\")\n",
    "        \n",
    "    mentions = [interaction for interaction in text.split() if interaction.startswith(\"@\")]\n",
    "    for mention in mentions:\n",
    "        text = text.replace(mention, \"\")\n",
    "        \n",
    "    return text, links, hashtags, mentions"
   ]
  },
  {
   "cell_type": "code",
   "execution_count": 22,
   "metadata": {},
   "outputs": [
    {
     "output_type": "execute_result",
     "data": {
      "text/plain": [
       "                                               tweets                date  \\\n",
       "0   Ya quisiera poder llegar a casa para seguir dá... 2021-05-19 23:54:26   \n",
       "1   Cometí el error de principiante de Game Pass! ... 2021-05-19 22:33:02   \n",
       "2   Quedan pocos días de mayo y muchos títulos nue... 2021-05-19 19:54:13   \n",
       "3   ¿ #XboxGamePassUltimate   en #NintendoSwitch ?... 2021-05-19 19:51:23   \n",
       "4   Amigo: Ven\\n\\nNosotros: No podemos\\n\\nAmigo: p... 2021-05-19 19:30:10   \n",
       "..                                                ...                 ...   \n",
       "95  Pero que cojones de juego...?\\n\\n#XboxSeriesX ... 2021-05-13 20:11:06   \n",
       "96  Este año es el 20 aniversario de Xbox y así se... 2021-05-13 20:05:00   \n",
       "97  3) 3 Meses de Xbox Game Pass Ultimate por solo... 2021-05-13 17:47:28   \n",
       "98  Así se vería #XboxGamePassUltimate si se hubie... 2021-05-13 17:44:34   \n",
       "99  Así se vería #XboxGamePassUltimate si se hubie... 2021-05-13 17:40:36   \n",
       "\n",
       "                     id                                               link  \\\n",
       "0   1395165984869212160  https://twitter.com/i/web/stuatus/139516598486...   \n",
       "1   1395145498969919492  https://twitter.com/i/web/stuatus/139514549896...   \n",
       "2   1395105533108097025  https://twitter.com/i/web/stuatus/139510553310...   \n",
       "3   1395104819967311875  https://twitter.com/i/web/stuatus/139510481996...   \n",
       "4   1395099478579892227  https://twitter.com/i/web/stuatus/139509947857...   \n",
       "..                  ...                                                ...   \n",
       "95  1392935452466982913  https://twitter.com/i/web/stuatus/139293545246...   \n",
       "96  1392933918630813700  https://twitter.com/i/web/stuatus/139293391863...   \n",
       "97  1392899308672987142  https://twitter.com/i/web/stuatus/139289930867...   \n",
       "98  1392898578436268033  https://twitter.com/i/web/stuatus/139289857843...   \n",
       "99  1392897580217077761  https://twitter.com/i/web/stuatus/139289758021...   \n",
       "\n",
       "                                         texto_limpio  \\\n",
       "0   Ya quisiera poder llegar a casa para seguir dá...   \n",
       "1   Cometí el error de principiante de Game Pass! ...   \n",
       "2   Quedan pocos días de mayo y muchos títulos nue...   \n",
       "3   ¿    en  ? El juicio de Epic contra Apple y un...   \n",
       "4   Amigo: Ven\\n\\nNosotros: No podemos\\n\\nAmigo: p...   \n",
       "..                                                ...   \n",
       "95               Pero que cojones de juego...?\\n\\n      \n",
       "96  Este año es el 20 aniversario de Xbox y así se...   \n",
       "97  3) 3 Meses de Xbox Game Pass Ultimate por solo...   \n",
       "98  Así se vería  si se hubiera lanzado hace 20 añ...   \n",
       "99  Así se vería  si se hubiera lanzado hace 20 añ...   \n",
       "\n",
       "                                                links  \\\n",
       "0                           [https://t.co/YhPVyqstcc]   \n",
       "1                                                  []   \n",
       "2   [https://t.co/BWnRMZiSYt, https://t.co/LGzgWYa...   \n",
       "3                           [https://t.co/CZopNvhq43]   \n",
       "4                           [https://t.co/QM950LaKkz]   \n",
       "..                                                ...   \n",
       "95                          [https://t.co/0vmmhZSy0W]   \n",
       "96                          [https://t.co/aaTOApfT1Y]   \n",
       "97                          [https://t.co/9TF6yIXKHp]   \n",
       "98                          [https://t.co/L9WsrOXmUH]   \n",
       "99                          [https://t.co/7LLlWiysGj]   \n",
       "\n",
       "                                             hashtags    mentions  \n",
       "0   [#xbox, #xboxgamepass, #XboxGamePassUltimate, ...          []  \n",
       "1               [#XboxSeriesS, #XboxGamePassUltimate]          []  \n",
       "2   [#XboxGamePassUltimate, #Xbox20, #XboxSeriesX,...  [@YouTube]  \n",
       "3            [#XboxGamePassUltimate, #NintendoSwitch]          []  \n",
       "4                             [#XboxGamePassUltimate]          []  \n",
       "..                                                ...         ...  \n",
       "95  [#XboxSeriesX, #XboxGamePassUltimate, #Psychon...          []  \n",
       "96                   [#XboxGamePassUltimate, #Xbox20]          []  \n",
       "97  [#XboxGamePass, #XboxGamePassUltimate, #Micros...          []  \n",
       "98                            [#XboxGamePassUltimate]          []  \n",
       "99                   [#XboxGamePassUltimate, #Xbox20]          []  \n",
       "\n",
       "[100 rows x 8 columns]"
      ],
      "text/html": "<div>\n<style scoped>\n    .dataframe tbody tr th:only-of-type {\n        vertical-align: middle;\n    }\n\n    .dataframe tbody tr th {\n        vertical-align: top;\n    }\n\n    .dataframe thead th {\n        text-align: right;\n    }\n</style>\n<table border=\"1\" class=\"dataframe\">\n  <thead>\n    <tr style=\"text-align: right;\">\n      <th></th>\n      <th>tweets</th>\n      <th>date</th>\n      <th>id</th>\n      <th>link</th>\n      <th>texto_limpio</th>\n      <th>links</th>\n      <th>hashtags</th>\n      <th>mentions</th>\n    </tr>\n  </thead>\n  <tbody>\n    <tr>\n      <th>0</th>\n      <td>Ya quisiera poder llegar a casa para seguir dá...</td>\n      <td>2021-05-19 23:54:26</td>\n      <td>1395165984869212160</td>\n      <td>https://twitter.com/i/web/stuatus/139516598486...</td>\n      <td>Ya quisiera poder llegar a casa para seguir dá...</td>\n      <td>[https://t.co/YhPVyqstcc]</td>\n      <td>[#xbox, #xboxgamepass, #XboxGamePassUltimate, ...</td>\n      <td>[]</td>\n    </tr>\n    <tr>\n      <th>1</th>\n      <td>Cometí el error de principiante de Game Pass! ...</td>\n      <td>2021-05-19 22:33:02</td>\n      <td>1395145498969919492</td>\n      <td>https://twitter.com/i/web/stuatus/139514549896...</td>\n      <td>Cometí el error de principiante de Game Pass! ...</td>\n      <td>[]</td>\n      <td>[#XboxSeriesS, #XboxGamePassUltimate]</td>\n      <td>[]</td>\n    </tr>\n    <tr>\n      <th>2</th>\n      <td>Quedan pocos días de mayo y muchos títulos nue...</td>\n      <td>2021-05-19 19:54:13</td>\n      <td>1395105533108097025</td>\n      <td>https://twitter.com/i/web/stuatus/139510553310...</td>\n      <td>Quedan pocos días de mayo y muchos títulos nue...</td>\n      <td>[https://t.co/BWnRMZiSYt, https://t.co/LGzgWYa...</td>\n      <td>[#XboxGamePassUltimate, #Xbox20, #XboxSeriesX,...</td>\n      <td>[@YouTube]</td>\n    </tr>\n    <tr>\n      <th>3</th>\n      <td>¿ #XboxGamePassUltimate   en #NintendoSwitch ?...</td>\n      <td>2021-05-19 19:51:23</td>\n      <td>1395104819967311875</td>\n      <td>https://twitter.com/i/web/stuatus/139510481996...</td>\n      <td>¿    en  ? El juicio de Epic contra Apple y un...</td>\n      <td>[https://t.co/CZopNvhq43]</td>\n      <td>[#XboxGamePassUltimate, #NintendoSwitch]</td>\n      <td>[]</td>\n    </tr>\n    <tr>\n      <th>4</th>\n      <td>Amigo: Ven\\n\\nNosotros: No podemos\\n\\nAmigo: p...</td>\n      <td>2021-05-19 19:30:10</td>\n      <td>1395099478579892227</td>\n      <td>https://twitter.com/i/web/stuatus/139509947857...</td>\n      <td>Amigo: Ven\\n\\nNosotros: No podemos\\n\\nAmigo: p...</td>\n      <td>[https://t.co/QM950LaKkz]</td>\n      <td>[#XboxGamePassUltimate]</td>\n      <td>[]</td>\n    </tr>\n    <tr>\n      <th>...</th>\n      <td>...</td>\n      <td>...</td>\n      <td>...</td>\n      <td>...</td>\n      <td>...</td>\n      <td>...</td>\n      <td>...</td>\n      <td>...</td>\n    </tr>\n    <tr>\n      <th>95</th>\n      <td>Pero que cojones de juego...?\\n\\n#XboxSeriesX ...</td>\n      <td>2021-05-13 20:11:06</td>\n      <td>1392935452466982913</td>\n      <td>https://twitter.com/i/web/stuatus/139293545246...</td>\n      <td>Pero que cojones de juego...?\\n\\n</td>\n      <td>[https://t.co/0vmmhZSy0W]</td>\n      <td>[#XboxSeriesX, #XboxGamePassUltimate, #Psychon...</td>\n      <td>[]</td>\n    </tr>\n    <tr>\n      <th>96</th>\n      <td>Este año es el 20 aniversario de Xbox y así se...</td>\n      <td>2021-05-13 20:05:00</td>\n      <td>1392933918630813700</td>\n      <td>https://twitter.com/i/web/stuatus/139293391863...</td>\n      <td>Este año es el 20 aniversario de Xbox y así se...</td>\n      <td>[https://t.co/aaTOApfT1Y]</td>\n      <td>[#XboxGamePassUltimate, #Xbox20]</td>\n      <td>[]</td>\n    </tr>\n    <tr>\n      <th>97</th>\n      <td>3) 3 Meses de Xbox Game Pass Ultimate por solo...</td>\n      <td>2021-05-13 17:47:28</td>\n      <td>1392899308672987142</td>\n      <td>https://twitter.com/i/web/stuatus/139289930867...</td>\n      <td>3) 3 Meses de Xbox Game Pass Ultimate por solo...</td>\n      <td>[https://t.co/9TF6yIXKHp]</td>\n      <td>[#XboxGamePass, #XboxGamePassUltimate, #Micros...</td>\n      <td>[]</td>\n    </tr>\n    <tr>\n      <th>98</th>\n      <td>Así se vería #XboxGamePassUltimate si se hubie...</td>\n      <td>2021-05-13 17:44:34</td>\n      <td>1392898578436268033</td>\n      <td>https://twitter.com/i/web/stuatus/139289857843...</td>\n      <td>Así se vería  si se hubiera lanzado hace 20 añ...</td>\n      <td>[https://t.co/L9WsrOXmUH]</td>\n      <td>[#XboxGamePassUltimate]</td>\n      <td>[]</td>\n    </tr>\n    <tr>\n      <th>99</th>\n      <td>Así se vería #XboxGamePassUltimate si se hubie...</td>\n      <td>2021-05-13 17:40:36</td>\n      <td>1392897580217077761</td>\n      <td>https://twitter.com/i/web/stuatus/139289758021...</td>\n      <td>Así se vería  si se hubiera lanzado hace 20 añ...</td>\n      <td>[https://t.co/7LLlWiysGj]</td>\n      <td>[#XboxGamePassUltimate, #Xbox20]</td>\n      <td>[]</td>\n    </tr>\n  </tbody>\n</table>\n<p>100 rows × 8 columns</p>\n</div>"
     },
     "metadata": {},
     "execution_count": 22
    }
   ],
   "source": [
    "#Obtiene el texto limpio, acortamos la url, obtenemos los hashtags y las cuentas mencionadas\n",
    "data[['texto_limpio', 'links', 'hashtags', 'mentions']] = data.apply(text_clean, axis=1, result_type='expand')\n",
    "data"
   ]
  },
  {
   "cell_type": "code",
   "execution_count": 26,
   "metadata": {},
   "outputs": [],
   "source": [
    "# Funcion que obtiene los emojis en el texto\n",
    "def get_emojis(text):\n",
    "    emoji_list = []\n",
    "    data = regex.findall(r'\\X', text)\n",
    "    for word in data:\n",
    "        if any(char in emoji.UNICODE_EMOJI['en'] for char in word):\n",
    "            emoji_list.append(word)\n",
    "\n",
    "    return emoji_list\n",
    "  "
   ]
  },
  {
   "cell_type": "code",
   "execution_count": 29,
   "metadata": {},
   "outputs": [
    {
     "output_type": "execute_result",
     "data": {
      "text/plain": [
       "                                              tweets                date  \\\n",
       "0  Ya quisiera poder llegar a casa para seguir dá... 2021-05-19 23:54:26   \n",
       "1  Cometí el error de principiante de Game Pass! ... 2021-05-19 22:33:02   \n",
       "2  Quedan pocos días de mayo y muchos títulos nue... 2021-05-19 19:54:13   \n",
       "3  ¿ #XboxGamePassUltimate   en #NintendoSwitch ?... 2021-05-19 19:51:23   \n",
       "4  Amigo: Ven\\n\\nNosotros: No podemos\\n\\nAmigo: p... 2021-05-19 19:30:10   \n",
       "\n",
       "                    id                                               link  \\\n",
       "0  1395165984869212160  https://twitter.com/i/web/stuatus/139516598486...   \n",
       "1  1395145498969919492  https://twitter.com/i/web/stuatus/139514549896...   \n",
       "2  1395105533108097025  https://twitter.com/i/web/stuatus/139510553310...   \n",
       "3  1395104819967311875  https://twitter.com/i/web/stuatus/139510481996...   \n",
       "4  1395099478579892227  https://twitter.com/i/web/stuatus/139509947857...   \n",
       "\n",
       "                                        texto_limpio  \\\n",
       "0  Ya quisiera poder llegar a casa para seguir dá...   \n",
       "1  Cometí el error de principiante de Game Pass! ...   \n",
       "2  Quedan pocos días de mayo y muchos títulos nue...   \n",
       "3  ¿    en  ? El juicio de Epic contra Apple y un...   \n",
       "4  Amigo: Ven\\n\\nNosotros: No podemos\\n\\nAmigo: p...   \n",
       "\n",
       "                                               links  \\\n",
       "0                          [https://t.co/YhPVyqstcc]   \n",
       "1                                                 []   \n",
       "2  [https://t.co/BWnRMZiSYt, https://t.co/LGzgWYa...   \n",
       "3                          [https://t.co/CZopNvhq43]   \n",
       "4                          [https://t.co/QM950LaKkz]   \n",
       "\n",
       "                                            hashtags    mentions     emojis  \n",
       "0  [#xbox, #xboxgamepass, #XboxGamePassUltimate, ...          []         []  \n",
       "1              [#XboxSeriesS, #XboxGamePassUltimate]          []  [🥲, 🥲, 🥲]  \n",
       "2  [#XboxGamePassUltimate, #Xbox20, #XboxSeriesX,...  [@YouTube]         []  \n",
       "3           [#XboxGamePassUltimate, #NintendoSwitch]          []         []  \n",
       "4                            [#XboxGamePassUltimate]          []         []  "
      ],
      "text/html": "<div>\n<style scoped>\n    .dataframe tbody tr th:only-of-type {\n        vertical-align: middle;\n    }\n\n    .dataframe tbody tr th {\n        vertical-align: top;\n    }\n\n    .dataframe thead th {\n        text-align: right;\n    }\n</style>\n<table border=\"1\" class=\"dataframe\">\n  <thead>\n    <tr style=\"text-align: right;\">\n      <th></th>\n      <th>tweets</th>\n      <th>date</th>\n      <th>id</th>\n      <th>link</th>\n      <th>texto_limpio</th>\n      <th>links</th>\n      <th>hashtags</th>\n      <th>mentions</th>\n      <th>emojis</th>\n    </tr>\n  </thead>\n  <tbody>\n    <tr>\n      <th>0</th>\n      <td>Ya quisiera poder llegar a casa para seguir dá...</td>\n      <td>2021-05-19 23:54:26</td>\n      <td>1395165984869212160</td>\n      <td>https://twitter.com/i/web/stuatus/139516598486...</td>\n      <td>Ya quisiera poder llegar a casa para seguir dá...</td>\n      <td>[https://t.co/YhPVyqstcc]</td>\n      <td>[#xbox, #xboxgamepass, #XboxGamePassUltimate, ...</td>\n      <td>[]</td>\n      <td>[]</td>\n    </tr>\n    <tr>\n      <th>1</th>\n      <td>Cometí el error de principiante de Game Pass! ...</td>\n      <td>2021-05-19 22:33:02</td>\n      <td>1395145498969919492</td>\n      <td>https://twitter.com/i/web/stuatus/139514549896...</td>\n      <td>Cometí el error de principiante de Game Pass! ...</td>\n      <td>[]</td>\n      <td>[#XboxSeriesS, #XboxGamePassUltimate]</td>\n      <td>[]</td>\n      <td>[🥲, 🥲, 🥲]</td>\n    </tr>\n    <tr>\n      <th>2</th>\n      <td>Quedan pocos días de mayo y muchos títulos nue...</td>\n      <td>2021-05-19 19:54:13</td>\n      <td>1395105533108097025</td>\n      <td>https://twitter.com/i/web/stuatus/139510553310...</td>\n      <td>Quedan pocos días de mayo y muchos títulos nue...</td>\n      <td>[https://t.co/BWnRMZiSYt, https://t.co/LGzgWYa...</td>\n      <td>[#XboxGamePassUltimate, #Xbox20, #XboxSeriesX,...</td>\n      <td>[@YouTube]</td>\n      <td>[]</td>\n    </tr>\n    <tr>\n      <th>3</th>\n      <td>¿ #XboxGamePassUltimate   en #NintendoSwitch ?...</td>\n      <td>2021-05-19 19:51:23</td>\n      <td>1395104819967311875</td>\n      <td>https://twitter.com/i/web/stuatus/139510481996...</td>\n      <td>¿    en  ? El juicio de Epic contra Apple y un...</td>\n      <td>[https://t.co/CZopNvhq43]</td>\n      <td>[#XboxGamePassUltimate, #NintendoSwitch]</td>\n      <td>[]</td>\n      <td>[]</td>\n    </tr>\n    <tr>\n      <th>4</th>\n      <td>Amigo: Ven\\n\\nNosotros: No podemos\\n\\nAmigo: p...</td>\n      <td>2021-05-19 19:30:10</td>\n      <td>1395099478579892227</td>\n      <td>https://twitter.com/i/web/stuatus/139509947857...</td>\n      <td>Amigo: Ven\\n\\nNosotros: No podemos\\n\\nAmigo: p...</td>\n      <td>[https://t.co/QM950LaKkz]</td>\n      <td>[#XboxGamePassUltimate]</td>\n      <td>[]</td>\n      <td>[]</td>\n    </tr>\n  </tbody>\n</table>\n</div>"
     },
     "metadata": {},
     "execution_count": 29
    }
   ],
   "source": [
    "data['emojis'] = data['texto_limpio'].apply(lambda text: get_emojis(text))\n",
    "data.head()"
   ]
  },
  {
   "cell_type": "markdown",
   "metadata": {},
   "source": [
    "###  `[25 pts]` Punto 2: Hacer una visualización sobre esos tuits"
   ]
  },
  {
   "cell_type": "code",
   "execution_count": 32,
   "metadata": {},
   "outputs": [],
   "source": [
    "data['hora'] = data['date'].dt.floor('T').dt.time\n",
    "temp = pd.DataFrame(data.hora.value_counts()).reset_index()\n",
    "temp.columns = ['hora', 'cnt']\n",
    "temp = temp.sort_values('hora')"
   ]
  },
  {
   "cell_type": "code",
   "execution_count": 33,
   "metadata": {},
   "outputs": [
    {
     "output_type": "display_data",
     "data": {
      "application/vnd.plotly.v1+json": {
       "config": {
        "linkText": "Export to plot.ly",
        "plotlyServerURL": "https://plot.ly",
        "showLink": false
       },
       "data": [
        {
         "hoverinfo": "text",
         "line": {
          "color": "blue"
         },
         "mode": "lines+markers",
         "name": "Horas",
         "text": [
          "Fecha: 00:00:00<br>Tuits: 1",
          "Fecha: 00:09:00<br>Tuits: 1",
          "Fecha: 00:21:00<br>Tuits: 1",
          "Fecha: 00:42:00<br>Tuits: 1",
          "Fecha: 01:04:00<br>Tuits: 1",
          "Fecha: 01:25:00<br>Tuits: 1",
          "Fecha: 01:41:00<br>Tuits: 1",
          "Fecha: 01:48:00<br>Tuits: 1",
          "Fecha: 02:00:00<br>Tuits: 1",
          "Fecha: 02:53:00<br>Tuits: 1",
          "Fecha: 03:44:00<br>Tuits: 1",
          "Fecha: 04:19:00<br>Tuits: 1",
          "Fecha: 05:14:00<br>Tuits: 1",
          "Fecha: 05:57:00<br>Tuits: 1",
          "Fecha: 06:36:00<br>Tuits: 1",
          "Fecha: 06:42:00<br>Tuits: 1",
          "Fecha: 08:10:00<br>Tuits: 1",
          "Fecha: 08:32:00<br>Tuits: 1",
          "Fecha: 10:17:00<br>Tuits: 1",
          "Fecha: 10:24:00<br>Tuits: 1",
          "Fecha: 10:38:00<br>Tuits: 1",
          "Fecha: 10:39:00<br>Tuits: 1",
          "Fecha: 11:03:00<br>Tuits: 1",
          "Fecha: 11:56:00<br>Tuits: 1",
          "Fecha: 11:59:00<br>Tuits: 1",
          "Fecha: 12:00:00<br>Tuits: 1",
          "Fecha: 12:08:00<br>Tuits: 1",
          "Fecha: 12:10:00<br>Tuits: 1",
          "Fecha: 12:20:00<br>Tuits: 1",
          "Fecha: 12:52:00<br>Tuits: 1",
          "Fecha: 12:59:00<br>Tuits: 1",
          "Fecha: 13:05:00<br>Tuits: 1",
          "Fecha: 13:06:00<br>Tuits: 1",
          "Fecha: 13:14:00<br>Tuits: 1",
          "Fecha: 13:41:00<br>Tuits: 1",
          "Fecha: 13:44:00<br>Tuits: 1",
          "Fecha: 14:17:00<br>Tuits: 1",
          "Fecha: 14:25:00<br>Tuits: 1",
          "Fecha: 14:43:00<br>Tuits: 1",
          "Fecha: 14:47:00<br>Tuits: 1",
          "Fecha: 15:05:00<br>Tuits: 1",
          "Fecha: 15:08:00<br>Tuits: 1",
          "Fecha: 15:10:00<br>Tuits: 1",
          "Fecha: 15:12:00<br>Tuits: 1",
          "Fecha: 15:28:00<br>Tuits: 1",
          "Fecha: 15:34:00<br>Tuits: 2",
          "Fecha: 15:39:00<br>Tuits: 1",
          "Fecha: 15:50:00<br>Tuits: 1",
          "Fecha: 15:56:00<br>Tuits: 1",
          "Fecha: 15:58:00<br>Tuits: 1",
          "Fecha: 16:01:00<br>Tuits: 1",
          "Fecha: 16:05:00<br>Tuits: 1",
          "Fecha: 16:19:00<br>Tuits: 2",
          "Fecha: 16:23:00<br>Tuits: 1",
          "Fecha: 16:34:00<br>Tuits: 1",
          "Fecha: 16:52:00<br>Tuits: 1",
          "Fecha: 17:03:00<br>Tuits: 1",
          "Fecha: 17:25:00<br>Tuits: 1",
          "Fecha: 17:40:00<br>Tuits: 1",
          "Fecha: 17:42:00<br>Tuits: 1",
          "Fecha: 17:44:00<br>Tuits: 1",
          "Fecha: 17:47:00<br>Tuits: 1",
          "Fecha: 17:49:00<br>Tuits: 1",
          "Fecha: 18:09:00<br>Tuits: 1",
          "Fecha: 18:31:00<br>Tuits: 1",
          "Fecha: 18:44:00<br>Tuits: 1",
          "Fecha: 18:48:00<br>Tuits: 1",
          "Fecha: 18:52:00<br>Tuits: 1",
          "Fecha: 19:29:00<br>Tuits: 1",
          "Fecha: 19:30:00<br>Tuits: 4",
          "Fecha: 19:34:00<br>Tuits: 1",
          "Fecha: 19:51:00<br>Tuits: 1",
          "Fecha: 19:54:00<br>Tuits: 1",
          "Fecha: 19:56:00<br>Tuits: 1",
          "Fecha: 20:00:00<br>Tuits: 2",
          "Fecha: 20:05:00<br>Tuits: 1",
          "Fecha: 20:11:00<br>Tuits: 1",
          "Fecha: 20:41:00<br>Tuits: 1",
          "Fecha: 20:58:00<br>Tuits: 1",
          "Fecha: 21:14:00<br>Tuits: 1",
          "Fecha: 21:15:00<br>Tuits: 1",
          "Fecha: 21:19:00<br>Tuits: 1",
          "Fecha: 21:39:00<br>Tuits: 1",
          "Fecha: 21:51:00<br>Tuits: 1",
          "Fecha: 22:06:00<br>Tuits: 1",
          "Fecha: 22:32:00<br>Tuits: 1",
          "Fecha: 22:33:00<br>Tuits: 1",
          "Fecha: 23:22:00<br>Tuits: 1",
          "Fecha: 23:25:00<br>Tuits: 2",
          "Fecha: 23:30:00<br>Tuits: 1",
          "Fecha: 23:45:00<br>Tuits: 1",
          "Fecha: 23:49:00<br>Tuits: 1",
          "Fecha: 23:54:00<br>Tuits: 1"
         ],
         "type": "scatter",
         "x": [
          "00:00:00",
          "00:09:00",
          "00:21:00",
          "00:42:00",
          "01:04:00",
          "01:25:00",
          "01:41:00",
          "01:48:00",
          "02:00:00",
          "02:53:00",
          "03:44:00",
          "04:19:00",
          "05:14:00",
          "05:57:00",
          "06:36:00",
          "06:42:00",
          "08:10:00",
          "08:32:00",
          "10:17:00",
          "10:24:00",
          "10:38:00",
          "10:39:00",
          "11:03:00",
          "11:56:00",
          "11:59:00",
          "12:00:00",
          "12:08:00",
          "12:10:00",
          "12:20:00",
          "12:52:00",
          "12:59:00",
          "13:05:00",
          "13:06:00",
          "13:14:00",
          "13:41:00",
          "13:44:00",
          "14:17:00",
          "14:25:00",
          "14:43:00",
          "14:47:00",
          "15:05:00",
          "15:08:00",
          "15:10:00",
          "15:12:00",
          "15:28:00",
          "15:34:00",
          "15:39:00",
          "15:50:00",
          "15:56:00",
          "15:58:00",
          "16:01:00",
          "16:05:00",
          "16:19:00",
          "16:23:00",
          "16:34:00",
          "16:52:00",
          "17:03:00",
          "17:25:00",
          "17:40:00",
          "17:42:00",
          "17:44:00",
          "17:47:00",
          "17:49:00",
          "18:09:00",
          "18:31:00",
          "18:44:00",
          "18:48:00",
          "18:52:00",
          "19:29:00",
          "19:30:00",
          "19:34:00",
          "19:51:00",
          "19:54:00",
          "19:56:00",
          "20:00:00",
          "20:05:00",
          "20:11:00",
          "20:41:00",
          "20:58:00",
          "21:14:00",
          "21:15:00",
          "21:19:00",
          "21:39:00",
          "21:51:00",
          "22:06:00",
          "22:32:00",
          "22:33:00",
          "23:22:00",
          "23:25:00",
          "23:30:00",
          "23:45:00",
          "23:49:00",
          "23:54:00"
         ],
         "y": [
          1,
          1,
          1,
          1,
          1,
          1,
          1,
          1,
          1,
          1,
          1,
          1,
          1,
          1,
          1,
          1,
          1,
          1,
          1,
          1,
          1,
          1,
          1,
          1,
          1,
          1,
          1,
          1,
          1,
          1,
          1,
          1,
          1,
          1,
          1,
          1,
          1,
          1,
          1,
          1,
          1,
          1,
          1,
          1,
          1,
          2,
          1,
          1,
          1,
          1,
          1,
          1,
          2,
          1,
          1,
          1,
          1,
          1,
          1,
          1,
          1,
          1,
          1,
          1,
          1,
          1,
          1,
          1,
          1,
          4,
          1,
          1,
          1,
          1,
          2,
          1,
          1,
          1,
          1,
          1,
          1,
          1,
          1,
          1,
          1,
          1,
          1,
          1,
          2,
          1,
          1,
          1,
          1
         ]
        }
       ],
       "layout": {
        "template": {
         "data": {
          "bar": [
           {
            "error_x": {
             "color": "#2a3f5f"
            },
            "error_y": {
             "color": "#2a3f5f"
            },
            "marker": {
             "line": {
              "color": "#E5ECF6",
              "width": 0.5
             }
            },
            "type": "bar"
           }
          ],
          "barpolar": [
           {
            "marker": {
             "line": {
              "color": "#E5ECF6",
              "width": 0.5
             }
            },
            "type": "barpolar"
           }
          ],
          "carpet": [
           {
            "aaxis": {
             "endlinecolor": "#2a3f5f",
             "gridcolor": "white",
             "linecolor": "white",
             "minorgridcolor": "white",
             "startlinecolor": "#2a3f5f"
            },
            "baxis": {
             "endlinecolor": "#2a3f5f",
             "gridcolor": "white",
             "linecolor": "white",
             "minorgridcolor": "white",
             "startlinecolor": "#2a3f5f"
            },
            "type": "carpet"
           }
          ],
          "choropleth": [
           {
            "colorbar": {
             "outlinewidth": 0,
             "ticks": ""
            },
            "type": "choropleth"
           }
          ],
          "contour": [
           {
            "colorbar": {
             "outlinewidth": 0,
             "ticks": ""
            },
            "colorscale": [
             [
              0,
              "#0d0887"
             ],
             [
              0.1111111111111111,
              "#46039f"
             ],
             [
              0.2222222222222222,
              "#7201a8"
             ],
             [
              0.3333333333333333,
              "#9c179e"
             ],
             [
              0.4444444444444444,
              "#bd3786"
             ],
             [
              0.5555555555555556,
              "#d8576b"
             ],
             [
              0.6666666666666666,
              "#ed7953"
             ],
             [
              0.7777777777777778,
              "#fb9f3a"
             ],
             [
              0.8888888888888888,
              "#fdca26"
             ],
             [
              1,
              "#f0f921"
             ]
            ],
            "type": "contour"
           }
          ],
          "contourcarpet": [
           {
            "colorbar": {
             "outlinewidth": 0,
             "ticks": ""
            },
            "type": "contourcarpet"
           }
          ],
          "heatmap": [
           {
            "colorbar": {
             "outlinewidth": 0,
             "ticks": ""
            },
            "colorscale": [
             [
              0,
              "#0d0887"
             ],
             [
              0.1111111111111111,
              "#46039f"
             ],
             [
              0.2222222222222222,
              "#7201a8"
             ],
             [
              0.3333333333333333,
              "#9c179e"
             ],
             [
              0.4444444444444444,
              "#bd3786"
             ],
             [
              0.5555555555555556,
              "#d8576b"
             ],
             [
              0.6666666666666666,
              "#ed7953"
             ],
             [
              0.7777777777777778,
              "#fb9f3a"
             ],
             [
              0.8888888888888888,
              "#fdca26"
             ],
             [
              1,
              "#f0f921"
             ]
            ],
            "type": "heatmap"
           }
          ],
          "heatmapgl": [
           {
            "colorbar": {
             "outlinewidth": 0,
             "ticks": ""
            },
            "colorscale": [
             [
              0,
              "#0d0887"
             ],
             [
              0.1111111111111111,
              "#46039f"
             ],
             [
              0.2222222222222222,
              "#7201a8"
             ],
             [
              0.3333333333333333,
              "#9c179e"
             ],
             [
              0.4444444444444444,
              "#bd3786"
             ],
             [
              0.5555555555555556,
              "#d8576b"
             ],
             [
              0.6666666666666666,
              "#ed7953"
             ],
             [
              0.7777777777777778,
              "#fb9f3a"
             ],
             [
              0.8888888888888888,
              "#fdca26"
             ],
             [
              1,
              "#f0f921"
             ]
            ],
            "type": "heatmapgl"
           }
          ],
          "histogram": [
           {
            "marker": {
             "colorbar": {
              "outlinewidth": 0,
              "ticks": ""
             }
            },
            "type": "histogram"
           }
          ],
          "histogram2d": [
           {
            "colorbar": {
             "outlinewidth": 0,
             "ticks": ""
            },
            "colorscale": [
             [
              0,
              "#0d0887"
             ],
             [
              0.1111111111111111,
              "#46039f"
             ],
             [
              0.2222222222222222,
              "#7201a8"
             ],
             [
              0.3333333333333333,
              "#9c179e"
             ],
             [
              0.4444444444444444,
              "#bd3786"
             ],
             [
              0.5555555555555556,
              "#d8576b"
             ],
             [
              0.6666666666666666,
              "#ed7953"
             ],
             [
              0.7777777777777778,
              "#fb9f3a"
             ],
             [
              0.8888888888888888,
              "#fdca26"
             ],
             [
              1,
              "#f0f921"
             ]
            ],
            "type": "histogram2d"
           }
          ],
          "histogram2dcontour": [
           {
            "colorbar": {
             "outlinewidth": 0,
             "ticks": ""
            },
            "colorscale": [
             [
              0,
              "#0d0887"
             ],
             [
              0.1111111111111111,
              "#46039f"
             ],
             [
              0.2222222222222222,
              "#7201a8"
             ],
             [
              0.3333333333333333,
              "#9c179e"
             ],
             [
              0.4444444444444444,
              "#bd3786"
             ],
             [
              0.5555555555555556,
              "#d8576b"
             ],
             [
              0.6666666666666666,
              "#ed7953"
             ],
             [
              0.7777777777777778,
              "#fb9f3a"
             ],
             [
              0.8888888888888888,
              "#fdca26"
             ],
             [
              1,
              "#f0f921"
             ]
            ],
            "type": "histogram2dcontour"
           }
          ],
          "mesh3d": [
           {
            "colorbar": {
             "outlinewidth": 0,
             "ticks": ""
            },
            "type": "mesh3d"
           }
          ],
          "parcoords": [
           {
            "line": {
             "colorbar": {
              "outlinewidth": 0,
              "ticks": ""
             }
            },
            "type": "parcoords"
           }
          ],
          "pie": [
           {
            "automargin": true,
            "type": "pie"
           }
          ],
          "scatter": [
           {
            "marker": {
             "colorbar": {
              "outlinewidth": 0,
              "ticks": ""
             }
            },
            "type": "scatter"
           }
          ],
          "scatter3d": [
           {
            "line": {
             "colorbar": {
              "outlinewidth": 0,
              "ticks": ""
             }
            },
            "marker": {
             "colorbar": {
              "outlinewidth": 0,
              "ticks": ""
             }
            },
            "type": "scatter3d"
           }
          ],
          "scattercarpet": [
           {
            "marker": {
             "colorbar": {
              "outlinewidth": 0,
              "ticks": ""
             }
            },
            "type": "scattercarpet"
           }
          ],
          "scattergeo": [
           {
            "marker": {
             "colorbar": {
              "outlinewidth": 0,
              "ticks": ""
             }
            },
            "type": "scattergeo"
           }
          ],
          "scattergl": [
           {
            "marker": {
             "colorbar": {
              "outlinewidth": 0,
              "ticks": ""
             }
            },
            "type": "scattergl"
           }
          ],
          "scattermapbox": [
           {
            "marker": {
             "colorbar": {
              "outlinewidth": 0,
              "ticks": ""
             }
            },
            "type": "scattermapbox"
           }
          ],
          "scatterpolar": [
           {
            "marker": {
             "colorbar": {
              "outlinewidth": 0,
              "ticks": ""
             }
            },
            "type": "scatterpolar"
           }
          ],
          "scatterpolargl": [
           {
            "marker": {
             "colorbar": {
              "outlinewidth": 0,
              "ticks": ""
             }
            },
            "type": "scatterpolargl"
           }
          ],
          "scatterternary": [
           {
            "marker": {
             "colorbar": {
              "outlinewidth": 0,
              "ticks": ""
             }
            },
            "type": "scatterternary"
           }
          ],
          "surface": [
           {
            "colorbar": {
             "outlinewidth": 0,
             "ticks": ""
            },
            "colorscale": [
             [
              0,
              "#0d0887"
             ],
             [
              0.1111111111111111,
              "#46039f"
             ],
             [
              0.2222222222222222,
              "#7201a8"
             ],
             [
              0.3333333333333333,
              "#9c179e"
             ],
             [
              0.4444444444444444,
              "#bd3786"
             ],
             [
              0.5555555555555556,
              "#d8576b"
             ],
             [
              0.6666666666666666,
              "#ed7953"
             ],
             [
              0.7777777777777778,
              "#fb9f3a"
             ],
             [
              0.8888888888888888,
              "#fdca26"
             ],
             [
              1,
              "#f0f921"
             ]
            ],
            "type": "surface"
           }
          ],
          "table": [
           {
            "cells": {
             "fill": {
              "color": "#EBF0F8"
             },
             "line": {
              "color": "white"
             }
            },
            "header": {
             "fill": {
              "color": "#C8D4E3"
             },
             "line": {
              "color": "white"
             }
            },
            "type": "table"
           }
          ]
         },
         "layout": {
          "annotationdefaults": {
           "arrowcolor": "#2a3f5f",
           "arrowhead": 0,
           "arrowwidth": 1
          },
          "autotypenumbers": "strict",
          "coloraxis": {
           "colorbar": {
            "outlinewidth": 0,
            "ticks": ""
           }
          },
          "colorscale": {
           "diverging": [
            [
             0,
             "#8e0152"
            ],
            [
             0.1,
             "#c51b7d"
            ],
            [
             0.2,
             "#de77ae"
            ],
            [
             0.3,
             "#f1b6da"
            ],
            [
             0.4,
             "#fde0ef"
            ],
            [
             0.5,
             "#f7f7f7"
            ],
            [
             0.6,
             "#e6f5d0"
            ],
            [
             0.7,
             "#b8e186"
            ],
            [
             0.8,
             "#7fbc41"
            ],
            [
             0.9,
             "#4d9221"
            ],
            [
             1,
             "#276419"
            ]
           ],
           "sequential": [
            [
             0,
             "#0d0887"
            ],
            [
             0.1111111111111111,
             "#46039f"
            ],
            [
             0.2222222222222222,
             "#7201a8"
            ],
            [
             0.3333333333333333,
             "#9c179e"
            ],
            [
             0.4444444444444444,
             "#bd3786"
            ],
            [
             0.5555555555555556,
             "#d8576b"
            ],
            [
             0.6666666666666666,
             "#ed7953"
            ],
            [
             0.7777777777777778,
             "#fb9f3a"
            ],
            [
             0.8888888888888888,
             "#fdca26"
            ],
            [
             1,
             "#f0f921"
            ]
           ],
           "sequentialminus": [
            [
             0,
             "#0d0887"
            ],
            [
             0.1111111111111111,
             "#46039f"
            ],
            [
             0.2222222222222222,
             "#7201a8"
            ],
            [
             0.3333333333333333,
             "#9c179e"
            ],
            [
             0.4444444444444444,
             "#bd3786"
            ],
            [
             0.5555555555555556,
             "#d8576b"
            ],
            [
             0.6666666666666666,
             "#ed7953"
            ],
            [
             0.7777777777777778,
             "#fb9f3a"
            ],
            [
             0.8888888888888888,
             "#fdca26"
            ],
            [
             1,
             "#f0f921"
            ]
           ]
          },
          "colorway": [
           "#636efa",
           "#EF553B",
           "#00cc96",
           "#ab63fa",
           "#FFA15A",
           "#19d3f3",
           "#FF6692",
           "#B6E880",
           "#FF97FF",
           "#FECB52"
          ],
          "font": {
           "color": "#2a3f5f"
          },
          "geo": {
           "bgcolor": "white",
           "lakecolor": "white",
           "landcolor": "#E5ECF6",
           "showlakes": true,
           "showland": true,
           "subunitcolor": "white"
          },
          "hoverlabel": {
           "align": "left"
          },
          "hovermode": "closest",
          "mapbox": {
           "style": "light"
          },
          "paper_bgcolor": "white",
          "plot_bgcolor": "#E5ECF6",
          "polar": {
           "angularaxis": {
            "gridcolor": "white",
            "linecolor": "white",
            "ticks": ""
           },
           "bgcolor": "#E5ECF6",
           "radialaxis": {
            "gridcolor": "white",
            "linecolor": "white",
            "ticks": ""
           }
          },
          "scene": {
           "xaxis": {
            "backgroundcolor": "#E5ECF6",
            "gridcolor": "white",
            "gridwidth": 2,
            "linecolor": "white",
            "showbackground": true,
            "ticks": "",
            "zerolinecolor": "white"
           },
           "yaxis": {
            "backgroundcolor": "#E5ECF6",
            "gridcolor": "white",
            "gridwidth": 2,
            "linecolor": "white",
            "showbackground": true,
            "ticks": "",
            "zerolinecolor": "white"
           },
           "zaxis": {
            "backgroundcolor": "#E5ECF6",
            "gridcolor": "white",
            "gridwidth": 2,
            "linecolor": "white",
            "showbackground": true,
            "ticks": "",
            "zerolinecolor": "white"
           }
          },
          "shapedefaults": {
           "line": {
            "color": "#2a3f5f"
           }
          },
          "ternary": {
           "aaxis": {
            "gridcolor": "white",
            "linecolor": "white",
            "ticks": ""
           },
           "baxis": {
            "gridcolor": "white",
            "linecolor": "white",
            "ticks": ""
           },
           "bgcolor": "#E5ECF6",
           "caxis": {
            "gridcolor": "white",
            "linecolor": "white",
            "ticks": ""
           }
          },
          "title": {
           "x": 0.05
          },
          "xaxis": {
           "automargin": true,
           "gridcolor": "white",
           "linecolor": "white",
           "ticks": "",
           "title": {
            "standoff": 15
           },
           "zerolinecolor": "white",
           "zerolinewidth": 2
          },
          "yaxis": {
           "automargin": true,
           "gridcolor": "white",
           "linecolor": "white",
           "ticks": "",
           "title": {
            "standoff": 15
           },
           "zerolinecolor": "white",
           "zerolinewidth": 2
          }
         }
        },
        "title": {
         "text": "Número de tuits por hora para #XboxGamePassUltimate"
        }
       }
      }
     },
     "metadata": {}
    }
   ],
   "source": [
    "trace = go.Scatter(x=temp.hora.values,\n",
    "                   y=temp.cnt.values,\n",
    "                   text=[f\"Fecha: {f}<br>Tuits: {c}\" for f,c in zip(temp.hora.values,temp.cnt.values)],\n",
    "                   hoverinfo='text',\n",
    "                   mode='lines+markers',\n",
    "                   name='Horas',\n",
    "                   line={'color': 'blue'})\n",
    "\n",
    "layout = go.Layout(title=\"Número de tuits por hora para #XboxGamePassUltimate\")\n",
    "\n",
    "fig = go.Figure(data=[trace], layout=layout)\n",
    "iplot(fig)"
   ]
  },
  {
   "cell_type": "code",
   "execution_count": null,
   "metadata": {},
   "outputs": [],
   "source": []
  }
 ],
 "metadata": {
  "kernelspec": {
   "name": "python379jvsc74a57bd0c51d22a6e700603606d0eacc0072ee59cf10084b737a530df8cd1ae37f92a519",
   "display_name": "Python 3.7.9 64-bit ('base': conda)"
  },
  "language_info": {
   "codemirror_mode": {
    "name": "ipython",
    "version": 3
   },
   "file_extension": ".py",
   "mimetype": "text/x-python",
   "name": "python",
   "nbconvert_exporter": "python",
   "pygments_lexer": "ipython3",
   "version": "3.7.9"
  }
 },
 "nbformat": 4,
 "nbformat_minor": 2
}