{
 "cells": [
  {
   "cell_type": "markdown",
   "metadata": {},
   "source": [
    "<img src='https://encrypted-tbn0.gstatic.com/images?q=tbn%3AANd9GcQ-VfNtOyJbsaxu43Kztf_cv1mgBG6ZIQZEVw&usqp=CAU'>\n",
    "\n",
    "# Procesamiento de Lenguaje Natural\n",
    "\n",
    "## Taller #9: Modelado de temas\n",
    "`Fecha de entrega: Mayo 6, 2021. (Antes del inicio de la próxima clase).`\n",
    "\n",
    "`Modo de entrega: Subir link de GitHub al aula virtual.`"
   ]
  },
  {
   "cell_type": "code",
   "execution_count": 1,
   "metadata": {},
   "outputs": [
    {
     "output_type": "stream",
     "name": "stderr",
     "text": [
      "D:\\Python\\anaconda3\\lib\\site-packages\\scipy\\sparse\\sparsetools.py:21: DeprecationWarning: `scipy.sparse.sparsetools` is deprecated!\nscipy.sparse.sparsetools is a private module for scipy.sparse, and should not be used.\n  _deprecated()\n"
     ]
    }
   ],
   "source": [
    "import re\n",
    "import pandas as pd \n",
    "from pprint import pprint\n",
    "\n",
    "from nltk.corpus import stopwords\n",
    "stopwords = stopwords.words('spanish')\n",
    "\n",
    "import pyLDAvis.gensim_models\n",
    "from gensim.models import LdaModel\n",
    "from gensim.corpora import Dictionary\n",
    "\n",
    "import warnings\n",
    "warnings.filterwarnings(\"ignore\", category=DeprecationWarning)"
   ]
  },
  {
   "cell_type": "code",
   "execution_count": 2,
   "metadata": {},
   "outputs": [
    {
     "output_type": "execute_result",
     "data": {
      "text/plain": [
       "    review_id          product_id          reviewer_id  stars  \\\n",
       "0  es_0825565  product_es_0370490  reviewer_es_0174781      3   \n",
       "1  es_0227934  product_es_0354224  reviewer_es_0411613      3   \n",
       "2  es_0468601  product_es_0665460  reviewer_es_0348315      1   \n",
       "3  es_0814494  product_es_0692692  reviewer_es_0951508      5   \n",
       "4  es_0206329  product_es_0728826  reviewer_es_0493255      4   \n",
       "\n",
       "                                         review_body            review_title  \\\n",
       "0         Buen. Buena calidad, y buena presentación.                Contenta   \n",
       "1  Un producto a perfecto, para salir de casa con...            Versatilidad   \n",
       "2  No funciona con Nintendo Switch. No hay forma ...      Decepción absoluta   \n",
       "3  Recomendado, los utilizo para pc y no me dan n...  Auriculares Pecham ps4   \n",
       "4  El cable funciona bien podria ser un poco mas ...                Perfecto   \n",
       "\n",
       "  language product_category  \n",
       "0       es          jewelry  \n",
       "1       es      video_games  \n",
       "2       es      video_games  \n",
       "3       es      video_games  \n",
       "4       es      video_games  "
      ],
      "text/html": "<div>\n<style scoped>\n    .dataframe tbody tr th:only-of-type {\n        vertical-align: middle;\n    }\n\n    .dataframe tbody tr th {\n        vertical-align: top;\n    }\n\n    .dataframe thead th {\n        text-align: right;\n    }\n</style>\n<table border=\"1\" class=\"dataframe\">\n  <thead>\n    <tr style=\"text-align: right;\">\n      <th></th>\n      <th>review_id</th>\n      <th>product_id</th>\n      <th>reviewer_id</th>\n      <th>stars</th>\n      <th>review_body</th>\n      <th>review_title</th>\n      <th>language</th>\n      <th>product_category</th>\n    </tr>\n  </thead>\n  <tbody>\n    <tr>\n      <th>0</th>\n      <td>es_0825565</td>\n      <td>product_es_0370490</td>\n      <td>reviewer_es_0174781</td>\n      <td>3</td>\n      <td>Buen. Buena calidad, y buena presentación.</td>\n      <td>Contenta</td>\n      <td>es</td>\n      <td>jewelry</td>\n    </tr>\n    <tr>\n      <th>1</th>\n      <td>es_0227934</td>\n      <td>product_es_0354224</td>\n      <td>reviewer_es_0411613</td>\n      <td>3</td>\n      <td>Un producto a perfecto, para salir de casa con...</td>\n      <td>Versatilidad</td>\n      <td>es</td>\n      <td>video_games</td>\n    </tr>\n    <tr>\n      <th>2</th>\n      <td>es_0468601</td>\n      <td>product_es_0665460</td>\n      <td>reviewer_es_0348315</td>\n      <td>1</td>\n      <td>No funciona con Nintendo Switch. No hay forma ...</td>\n      <td>Decepción absoluta</td>\n      <td>es</td>\n      <td>video_games</td>\n    </tr>\n    <tr>\n      <th>3</th>\n      <td>es_0814494</td>\n      <td>product_es_0692692</td>\n      <td>reviewer_es_0951508</td>\n      <td>5</td>\n      <td>Recomendado, los utilizo para pc y no me dan n...</td>\n      <td>Auriculares Pecham ps4</td>\n      <td>es</td>\n      <td>video_games</td>\n    </tr>\n    <tr>\n      <th>4</th>\n      <td>es_0206329</td>\n      <td>product_es_0728826</td>\n      <td>reviewer_es_0493255</td>\n      <td>4</td>\n      <td>El cable funciona bien podria ser un poco mas ...</td>\n      <td>Perfecto</td>\n      <td>es</td>\n      <td>video_games</td>\n    </tr>\n  </tbody>\n</table>\n</div>"
     },
     "metadata": {},
     "execution_count": 2
    }
   ],
   "source": [
    "# Cargar datos\n",
    "path = 'C:/Users/XboxL/Documents/01 - Maestria En Analitica de Datos/02 - Procesamiento de Lenguaje Natural (NLP) - Clase/Recursos/reviews_vidjew_es.csv'\n",
    "data = pd.read_csv(path)\n",
    "data.head()"
   ]
  },
  {
   "cell_type": "markdown",
   "metadata": {},
   "source": [
    "###  `[12 pts]` Punto 1: Hacer pre-procesamiento del texto"
   ]
  },
  {
   "cell_type": "code",
   "execution_count": 3,
   "metadata": {},
   "outputs": [
    {
     "output_type": "execute_result",
     "data": {
      "text/plain": [
       "                                         review_body\n",
       "0         Buen. Buena calidad, y buena presentación.\n",
       "1  Un producto a perfecto, para salir de casa con...\n",
       "2  No funciona con Nintendo Switch. No hay forma ...\n",
       "3  Recomendado, los utilizo para pc y no me dan n...\n",
       "4  El cable funciona bien podria ser un poco mas ..."
      ],
      "text/html": "<div>\n<style scoped>\n    .dataframe tbody tr th:only-of-type {\n        vertical-align: middle;\n    }\n\n    .dataframe tbody tr th {\n        vertical-align: top;\n    }\n\n    .dataframe thead th {\n        text-align: right;\n    }\n</style>\n<table border=\"1\" class=\"dataframe\">\n  <thead>\n    <tr style=\"text-align: right;\">\n      <th></th>\n      <th>review_body</th>\n    </tr>\n  </thead>\n  <tbody>\n    <tr>\n      <th>0</th>\n      <td>Buen. Buena calidad, y buena presentación.</td>\n    </tr>\n    <tr>\n      <th>1</th>\n      <td>Un producto a perfecto, para salir de casa con...</td>\n    </tr>\n    <tr>\n      <th>2</th>\n      <td>No funciona con Nintendo Switch. No hay forma ...</td>\n    </tr>\n    <tr>\n      <th>3</th>\n      <td>Recomendado, los utilizo para pc y no me dan n...</td>\n    </tr>\n    <tr>\n      <th>4</th>\n      <td>El cable funciona bien podria ser un poco mas ...</td>\n    </tr>\n  </tbody>\n</table>\n</div>"
     },
     "metadata": {},
     "execution_count": 3
    }
   ],
   "source": [
    "#Eliminacion de columnas\n",
    "columnasEliminar = [\"review_id\",\"product_id\",\"reviewer_id\",\"stars\",\"review_title\",\"language\",\"product_category\"]\n",
    "data = data.drop(columnasEliminar,axis=1)\n",
    "data.head()"
   ]
  },
  {
   "cell_type": "code",
   "execution_count": 4,
   "metadata": {},
   "outputs": [
    {
     "output_type": "execute_result",
     "data": {
      "text/plain": [
       "                                         review_body  \\\n",
       "0         Buen. Buena calidad, y buena presentación.   \n",
       "1  Un producto a perfecto, para salir de casa con...   \n",
       "2  No funciona con Nintendo Switch. No hay forma ...   \n",
       "3  Recomendado, los utilizo para pc y no me dan n...   \n",
       "4  El cable funciona bien podria ser un poco mas ...   \n",
       "\n",
       "                                       Pre-Processed  \n",
       "0        [buen, buena, calidad, buena, presentación]  \n",
       "1  [producto, perfecto, salir, casa, nintendo, sw...  \n",
       "2  [funciona, nintendo, switch, forma, emparejarl...  \n",
       "3  [recomendado, utilizo, pc, dan, ningún, proble...  \n",
       "4  [cable, funciona, bien, podria, ser, mas, larg...  "
      ],
      "text/html": "<div>\n<style scoped>\n    .dataframe tbody tr th:only-of-type {\n        vertical-align: middle;\n    }\n\n    .dataframe tbody tr th {\n        vertical-align: top;\n    }\n\n    .dataframe thead th {\n        text-align: right;\n    }\n</style>\n<table border=\"1\" class=\"dataframe\">\n  <thead>\n    <tr style=\"text-align: right;\">\n      <th></th>\n      <th>review_body</th>\n      <th>Pre-Processed</th>\n    </tr>\n  </thead>\n  <tbody>\n    <tr>\n      <th>0</th>\n      <td>Buen. Buena calidad, y buena presentación.</td>\n      <td>[buen, buena, calidad, buena, presentación]</td>\n    </tr>\n    <tr>\n      <th>1</th>\n      <td>Un producto a perfecto, para salir de casa con...</td>\n      <td>[producto, perfecto, salir, casa, nintendo, sw...</td>\n    </tr>\n    <tr>\n      <th>2</th>\n      <td>No funciona con Nintendo Switch. No hay forma ...</td>\n      <td>[funciona, nintendo, switch, forma, emparejarl...</td>\n    </tr>\n    <tr>\n      <th>3</th>\n      <td>Recomendado, los utilizo para pc y no me dan n...</td>\n      <td>[recomendado, utilizo, pc, dan, ningún, proble...</td>\n    </tr>\n    <tr>\n      <th>4</th>\n      <td>El cable funciona bien podria ser un poco mas ...</td>\n      <td>[cable, funciona, bien, podria, ser, mas, larg...</td>\n    </tr>\n  </tbody>\n</table>\n</div>"
     },
     "metadata": {},
     "execution_count": 4
    }
   ],
   "source": [
    "#Adicion de columna para el pre-procesamiento\n",
    "def pre_procesado(texto):\n",
    "    texto = texto.lower()\n",
    "    texto = re.sub(r\"[\\W\\d]+\", \" \", texto)\n",
    "    texto = [palabra for palabra in texto.split() if palabra not in stopwords]\n",
    "    return texto \n",
    "\n",
    "data['Pre-Processed'] = data['review_body'].apply(lambda texto: pre_procesado(texto))\n",
    "data.head()\n"
   ]
  },
  {
   "cell_type": "code",
   "execution_count": 14,
   "metadata": {},
   "outputs": [],
   "source": [
    "# Crear una represantación de los documentos en forma de diccionario\n",
    "dictionary  = Dictionary(data['Pre-Processed'].values)\n",
    "\n",
    "# Filtrar palabras muy frecuentes o infrecuentes\n",
    "dictionary .filter_extremes(no_below=5, no_above=0.5) \n",
    "\n",
    "# Corpus\n",
    "corpus = [dictionary.doc2bow(text) for text in data['Pre-Processed'].values]\n",
    "\n",
    "# Entrenar el modelo\n",
    "model = LdaModel(corpus = corpus, id2word = dictionary, num_topics = 7, passes=100)"
   ]
  },
  {
   "cell_type": "code",
   "execution_count": 5,
   "metadata": {},
   "outputs": [
    {
     "data": {
      "text/html": [
       "<div>\n",
       "<style scoped>\n",
       "    .dataframe tbody tr th:only-of-type {\n",
       "        vertical-align: middle;\n",
       "    }\n",
       "\n",
       "    .dataframe tbody tr th {\n",
       "        vertical-align: top;\n",
       "    }\n",
       "\n",
       "    .dataframe thead th {\n",
       "        text-align: right;\n",
       "    }\n",
       "</style>\n",
       "<table border=\"1\" class=\"dataframe\">\n",
       "  <thead>\n",
       "    <tr style=\"text-align: right;\">\n",
       "      <th></th>\n",
       "      <th>review_id</th>\n",
       "      <th>product_id</th>\n",
       "      <th>reviewer_id</th>\n",
       "      <th>stars</th>\n",
       "      <th>review_body</th>\n",
       "      <th>review_title</th>\n",
       "      <th>language</th>\n",
       "      <th>product_category</th>\n",
       "      <th>pp</th>\n",
       "    </tr>\n",
       "  </thead>\n",
       "  <tbody>\n",
       "    <tr>\n",
       "      <th>0</th>\n",
       "      <td>es_0825565</td>\n",
       "      <td>product_es_0370490</td>\n",
       "      <td>reviewer_es_0174781</td>\n",
       "      <td>3</td>\n",
       "      <td>Buen. Buena calidad, y buena presentación.</td>\n",
       "      <td>Contenta</td>\n",
       "      <td>es</td>\n",
       "      <td>jewelry</td>\n",
       "      <td>[buen, buena, calidad, buena, presentación]</td>\n",
       "    </tr>\n",
       "    <tr>\n",
       "      <th>1</th>\n",
       "      <td>es_0227934</td>\n",
       "      <td>product_es_0354224</td>\n",
       "      <td>reviewer_es_0411613</td>\n",
       "      <td>3</td>\n",
       "      <td>Un producto a perfecto, para salir de casa con...</td>\n",
       "      <td>Versatilidad</td>\n",
       "      <td>es</td>\n",
       "      <td>video_games</td>\n",
       "      <td>[producto, perfecto, salir, casa, nintendo, sw...</td>\n",
       "    </tr>\n",
       "    <tr>\n",
       "      <th>2</th>\n",
       "      <td>es_0468601</td>\n",
       "      <td>product_es_0665460</td>\n",
       "      <td>reviewer_es_0348315</td>\n",
       "      <td>1</td>\n",
       "      <td>No funciona con Nintendo Switch. No hay forma ...</td>\n",
       "      <td>Decepción absoluta</td>\n",
       "      <td>es</td>\n",
       "      <td>video_games</td>\n",
       "      <td>[funciona, nintendo, switch, forma, emparejarl...</td>\n",
       "    </tr>\n",
       "    <tr>\n",
       "      <th>3</th>\n",
       "      <td>es_0814494</td>\n",
       "      <td>product_es_0692692</td>\n",
       "      <td>reviewer_es_0951508</td>\n",
       "      <td>5</td>\n",
       "      <td>Recomendado, los utilizo para pc y no me dan n...</td>\n",
       "      <td>Auriculares Pecham ps4</td>\n",
       "      <td>es</td>\n",
       "      <td>video_games</td>\n",
       "      <td>[recomendado, utilizo, pc, dan, ningún, proble...</td>\n",
       "    </tr>\n",
       "    <tr>\n",
       "      <th>4</th>\n",
       "      <td>es_0206329</td>\n",
       "      <td>product_es_0728826</td>\n",
       "      <td>reviewer_es_0493255</td>\n",
       "      <td>4</td>\n",
       "      <td>El cable funciona bien podria ser un poco mas ...</td>\n",
       "      <td>Perfecto</td>\n",
       "      <td>es</td>\n",
       "      <td>video_games</td>\n",
       "      <td>[cable, funciona, bien, podria, ser, mas, larg...</td>\n",
       "    </tr>\n",
       "  </tbody>\n",
       "</table>\n",
       "</div>"
      ],
      "text/plain": [
       "    review_id          product_id          reviewer_id  stars  \\\n",
       "0  es_0825565  product_es_0370490  reviewer_es_0174781      3   \n",
       "1  es_0227934  product_es_0354224  reviewer_es_0411613      3   \n",
       "2  es_0468601  product_es_0665460  reviewer_es_0348315      1   \n",
       "3  es_0814494  product_es_0692692  reviewer_es_0951508      5   \n",
       "4  es_0206329  product_es_0728826  reviewer_es_0493255      4   \n",
       "\n",
       "                                         review_body            review_title  \\\n",
       "0         Buen. Buena calidad, y buena presentación.                Contenta   \n",
       "1  Un producto a perfecto, para salir de casa con...            Versatilidad   \n",
       "2  No funciona con Nintendo Switch. No hay forma ...      Decepción absoluta   \n",
       "3  Recomendado, los utilizo para pc y no me dan n...  Auriculares Pecham ps4   \n",
       "4  El cable funciona bien podria ser un poco mas ...                Perfecto   \n",
       "\n",
       "  language product_category                                                 pp  \n",
       "0       es          jewelry        [buen, buena, calidad, buena, presentación]  \n",
       "1       es      video_games  [producto, perfecto, salir, casa, nintendo, sw...  \n",
       "2       es      video_games  [funciona, nintendo, switch, forma, emparejarl...  \n",
       "3       es      video_games  [recomendado, utilizo, pc, dan, ningún, proble...  \n",
       "4       es      video_games  [cable, funciona, bien, podria, ser, mas, larg...  "
      ]
     },
     "execution_count": 5,
     "metadata": {},
     "output_type": "execute_result"
    }
   ],
   "source": []
  },
  {
   "cell_type": "markdown",
   "metadata": {},
   "source": [
    "###  `[10 pts]` Punto 2: Modelo de LDA"
   ]
  },
  {
   "cell_type": "code",
   "execution_count": 15,
   "metadata": {},
   "outputs": [
    {
     "output_type": "execute_result",
     "data": {
      "text/plain": [
       "<IPython.core.display.HTML object>"
      ],
      "text/html": "\n<link rel=\"stylesheet\" type=\"text/css\" href=\"https://cdn.jsdelivr.net/gh/bmabey/pyLDAvis@3.3.1/pyLDAvis/js/ldavis.v1.0.0.css\">\n\n\n<div id=\"ldavis_el2210424584489311444346326187\"></div>\n<script type=\"text/javascript\">\n\nvar ldavis_el2210424584489311444346326187_data = {\"mdsDat\": {\"x\": [-0.24734845411791823, 0.2044930023223955, -0.011448235973704129, -0.0474735442890219, 0.06498494329429891, 0.017895601208919306, 0.01889668755503058], \"y\": [-0.07624385754523601, -0.026733718390404317, 0.044729982045764366, 0.22302351120570427, 0.014330366204475154, -0.16093657419093452, -0.01816970932936894], \"topics\": [1, 2, 3, 4, 5, 6, 7], \"cluster\": [1, 1, 1, 1, 1, 1, 1], \"Freq\": [17.297261479665483, 16.83037218973252, 16.473824609142095, 15.494141674375062, 12.893950157039077, 10.948710653975754, 10.06173923607001]}, \"tinfo\": {\"Term\": [\"calidad\", \"pulsera\", \"juego\", \"bonito\", \"bonitos\", \"buena\", \"d\\u00eda\", \"producto\", \"bonita\", \"bien\", \"mando\", \"llegado\", \"precio\", \"ps\", \"lleg\\u00f3\", \"buen\", \"tama\\u00f1o\", \"si\", \"cadena\", \"bastante\", \"entrega\", \"despu\\u00e9s\", \"perfectamente\", \"demasiado\", \"llego\", \"env\\u00edo\", \"regalo\", \"queda\", \"peque\\u00f1os\", \"puede\", \"bonitos\", \"peque\\u00f1os\", \"enseguida\", \"piedra\", \"quiz\\u00e1s\", \"precioso\", \"dedo\", \"brillo\", \"ven\", \"dorado\", \"tama\\u00f1o\", \"demasiado\", \"quiz\\u00e1\", \"piel\", \"cadena\", \"colgante\", \"dise\\u00f1o\", \"grandes\", \"material\", \"elegantes\", \"bonito\", \"preciosos\", \"mujer\", \"ponen\", \"perlas\", \"corta\", \"rat\\u00f3n\", \"pendientes\", \"xbox\", \"anillo\", \"fotos\", \"peque\\u00f1o\", \"quedan\", \"botones\", \"bastante\", \"parece\", \"calidad\", \"bien\", \"plata\", \"grande\", \"mala\", \"color\", \"cierre\", \"precio\", \"tal\", \"pl\\u00e1stico\", \"foto\", \"viene\", \"esperaba\", \"mal\", \"entrega\", \"env\\u00edo\", \"servicio\", \"historia\", \"mucha\", \"originales\", \"despu\\u00e9s\", \"espa\\u00f1ol\", \"falta\", \"prime\", \"valen\", \"r\\u00e1pido\", \"ingles\", \"juegazo\", \"mont\\u00f3n\", \"devoluci\\u00f3n\", \"dinero\", \"mejores\", \"fecha\", \"amazon\", \"cuenta\", \"siempre\", \"hola\", \"plazo\", \"hoy\", \"alguna\", \"sigue\", \"empresa\", \"articulo\", \"devolverlo\", \"esperando\", \"juego\", \"d\\u00eda\", \"cosa\", \"llegado\", \"decir\", \"pena\", \"producto\", \"llego\", \"vale\", \"si\", \"adem\\u00e1s\", \"nunca\", \"puesto\", \"as\\u00ed\", \"lleg\\u00f3\", \"caja\", \"viene\", \"hacer\", \"mal\", \"perfecto\", \"bien\", \"parece\", \"ps\", \"todav\\u00eda\", \"tampoco\", \"pc\", \"normal\", \"play\", \"much\\u00edsimo\", \"entra\", \"espa\\u00f1ola\", \"videojuegos\", \"perfecta\", \"quer\\u00eda\", \"aun\", \"encajan\", \"versi\\u00f3n\", \"apenas\", \"tiendas\", \"cerrar\", \"alguien\", \"buenos\", \"recibido\", \"ingl\\u00e9s\", \"media\", \"instrucciones\", \"esperado\", \"mandos\", \"consola\", \"interesante\", \"bajo\", \"totalmente\", \"a\\u00fan\", \"puede\", \"pedido\", \"llegado\", \"jugar\", \"tan\", \"verdad\", \"bien\", \"si\", \"mando\", \"bastante\", \"uso\", \"cable\", \"as\\u00ed\", \"precio\", \"mas\", \"vez\", \"dentro\", \"recomiendo\", \"calidad\", \"aunque\", \"juego\", \"buen\", \"mejor\", \"correcto\", \"expectativas\", \"deja\", \"presentaci\\u00f3n\", \"art\\u00edculo\", \"cd\", \"exactamente\", \"jugabilidad\", \"juguete\", \"\\u00fanica\", \"tra\\u00eda\", \"cumple\", \"conjunto\", \"s\\u00f3lo\", \"usb\", \"entretenido\", \"doy\", \"detalle\", \"enga\\u00f1o\", \"desear\", \"toda\", \"hija\", \"rompio\", \"buena\", \"venido\", \"mu\\u00f1eca\", \"dio\", \"auriculares\", \"mano\", \"disco\", \"buen\", \"perfectamente\", \"misma\", \"momento\", \"calidad\", \"precio\", \"igual\", \"ve\", \"gustado\", \"solo\", \"perfecto\", \"producto\", \"recomendable\", \"juego\", \"uso\", \"compra\", \"vienen\", \"regalo\", \"caja\", \"todas\", \"muchas\", \"tiempo\", \"compr\\u00e9\", \"parece\", \"foto\", \"funciona\", \"rapido\", \"pueden\", \"cargar\", \"venia\", \"sony\", \"quieres\", \"cambiar\", \"c\\u00f3mo\", \"condiciones\", \"base\", \"\\u00fanico\", \"pensaba\", \"contenta\", \"carga\", \"par\", \"peso\", \"pienso\", \"sirve\", \"compras\", \"imposible\", \"adecuado\", \"piedras\", \"azul\", \"semanas\", \"deber\\u00edan\", \"corresponde\", \"ningun\", \"cargador\", \"tacto\", \"usado\", \"llego\", \"nunca\", \"original\", \"roto\", \"caso\", \"ver\", \"producto\", \"compra\", \"si\", \"foto\", \"tiempo\", \"plata\", \"mejor\", \"solo\", \"mas\", \"llega\", \"perfecto\", \"problema\", \"bien\", \"mando\", \"tal\", \"ser\", \"vale\", \"lleg\\u00f3\", \"pulsera\", \"bonita\", \"pandora\", \"preciosa\", \"pulseras\", \"bolsa\", \"perdi\\u00f3\", \"divertido\", \"enviaron\", \"excesivamente\", \"dem\\u00e1s\", \"paquete\", \"familia\", \"repartidor\", \"rota\", \"seg\\u00fan\", \"pone\", \"bonitas\", \"realmente\", \"gust\\u00f3\", \"abrir\", \"haber\", \"q\", \"veo\", \"ven\\u00eda\", \"junto\", \"ni\\u00f1os\", \"encantada\", \"primero\", \"cuidado\", \"lleg\\u00f3\", \"barato\", \"d\\u00eda\", \"mismo\", \"regalo\", \"compre\", \"peque\\u00f1a\", \"roto\", \"cierre\", \"queda\", \"ser\", \"malo\", \"bien\", \"calidad\", \"si\", \"comprar\", \"mas\", \"precio\", \"compr\\u00e9\", \"producto\", \"f\\u00e1cil\", \"vino\", \"genial\", \"bot\\u00f3n\", \"encant\\u00f3\", \"devolver\", \"luces\", \"adapta\", \"funda\", \"fino\", \"parecido\", \"conectar\", \"elegante\", \"hijo\", \"merece\", \"encanta\", \"c\\u00f3modo\", \"encontr\\u00e9\", \"sitio\", \"cosas\", \"contento\", \"ruido\", \"recomendado\", \"cable\", \"saga\", \"sonido\", \"d\\u00edas\", \"peor\", \"dura\", \"ahora\", \"switch\", \"mando\", \"queda\", \"gusto\", \"problema\", \"comprar\", \"poner\", \"bien\", \"dos\", \"grande\", \"bonito\", \"buen\", \"juego\", \"perfectamente\", \"meses\", \"pena\", \"parte\", \"caja\", \"funciona\"], \"Freq\": [143.0, 37.0, 117.0, 63.0, 38.0, 65.0, 49.0, 105.0, 26.0, 185.0, 52.0, 50.0, 115.0, 29.0, 43.0, 60.0, 34.0, 112.0, 32.0, 53.0, 23.0, 27.0, 37.0, 28.0, 33.0, 21.0, 61.0, 35.0, 21.0, 50.0, 38.02084004236838, 20.46220619324719, 9.372283925985199, 9.371327982872366, 8.44817652323368, 6.599697126333342, 6.599676397975028, 6.599089907366261, 5.676103055278894, 5.67591832902686, 29.373234764480518, 24.571673949278786, 4.751791112403424, 4.749412838115691, 27.570167542700567, 21.20015281963828, 16.42238328252024, 19.301214502025694, 16.26637556127311, 5.635679708278609, 47.771252509690335, 5.600316519337329, 8.945163909773301, 4.686600730334696, 4.675704015266306, 4.626827460848292, 6.598952124749233, 20.27210519983431, 8.44835027564896, 6.359142089468994, 11.832105404297906, 18.988936906764522, 14.395458326155465, 10.835692000828782, 27.244225082049688, 22.906535662350574, 51.19368492598041, 60.61378246836244, 17.316412008385356, 15.149245076244037, 12.766403233791145, 11.859372950002374, 12.273768192839865, 27.603891362362248, 13.60728322962397, 10.517505604132923, 15.003275976996855, 12.836261459254906, 12.28267285170852, 11.110881685805431, 22.766424928295816, 20.88000092968534, 14.279676188601718, 9.564517858603173, 8.620717403248317, 7.635595113256005, 24.57712554823102, 16.016889800130865, 6.724180502688355, 5.792302214354899, 5.7910772529209655, 17.89468508735248, 4.8496116393113695, 4.849472830122246, 4.848396762305707, 7.678869174566137, 10.453053274233598, 6.67435156300294, 5.790958612588382, 26.13429889585348, 5.63487835704876, 12.659921251944352, 4.689006144886151, 4.613332298549734, 7.256336375680372, 6.525640651721793, 6.49842455942695, 3.7717511673462063, 3.736068604317314, 5.5882183006466715, 6.153604144392231, 58.74474644228788, 23.453720238990062, 9.78771769589905, 23.115433940272425, 10.795042337731193, 14.500690077769727, 28.232007089956724, 13.97735570670702, 9.761539113312656, 25.168391000924863, 9.49727311129604, 9.564570653551172, 8.6443475914908, 12.330741785155888, 12.447316589549919, 12.446925076452391, 11.039481760567977, 8.962987644334136, 10.104355099928362, 10.790520954656403, 11.543661649934947, 9.277731548655403, 28.215180392189385, 11.365944050672745, 12.130806172198714, 9.493983192378867, 8.557707220107764, 6.684931150524444, 5.748595372866723, 4.813402865172612, 4.812850681457329, 4.81284748796581, 4.810237534442992, 7.607712588908156, 9.49470898590579, 5.749936058669657, 10.694382977350251, 4.814477910544692, 4.810978714792686, 4.8137277303552635, 4.812902357956445, 6.688978175230572, 10.42987478439811, 3.8769338318233477, 3.8769111870653075, 3.8134385109139384, 5.7070027586954115, 9.987478662440674, 13.732128495094642, 3.739579729392288, 3.7323473420551965, 7.279999392457374, 9.600111625059785, 29.215871991562036, 14.114785422803205, 26.933854048331163, 18.305546279002815, 12.887285088171302, 12.876322702740644, 56.52634204291847, 34.98688277171428, 20.30778184966614, 19.65525514706334, 11.492063740259255, 10.915240205688727, 15.243999378653896, 27.033302858025095, 19.349937616314143, 11.635391123416898, 9.331915820356048, 11.237444919587567, 18.012672913748844, 11.328750906544236, 12.2988140190807, 10.857395042227715, 10.14058161345375, 16.934786323827005, 11.334942522729397, 10.400636578514503, 7.599452083177936, 15.736873305895529, 5.732143747411812, 4.800365177192494, 4.800194792428747, 4.799763915574273, 4.799526359894049, 4.798861203989422, 20.118696502519505, 4.631579408920984, 7.365730060138512, 5.7327395479799135, 5.593527550528715, 4.800282715335681, 4.800531193116145, 4.711063355103794, 4.6783336434190845, 7.344856834369521, 5.979553892577231, 3.8665966003094163, 44.93249807948189, 3.8670815415600797, 3.8652649232376333, 3.8319492408750393, 5.730135173177644, 9.368702349092814, 6.721497076837169, 34.18276824088101, 21.856778370979008, 6.100818148808767, 12.738270756507843, 61.45006017413436, 47.5507788997765, 10.35753578654674, 12.407005640643499, 15.889702977926174, 20.18555504692969, 23.78777292714056, 32.16830699468407, 9.936491006708186, 31.561826796967896, 11.206104336086314, 13.514467285435995, 7.451526434155129, 17.96390920464687, 15.278140726968243, 8.818688863513309, 8.499398192247275, 11.409248847293354, 9.782533081722734, 11.318470903357195, 10.532769962800046, 9.419148253472093, 10.50431790222343, 13.969787082860117, 7.676563648670273, 6.734022222569062, 6.733990864903967, 5.791307193162541, 7.618002527415849, 6.677623871288408, 5.791314918964086, 4.8487271380536034, 7.310048896607983, 3.9042728943815614, 8.288540749594024, 10.126902498639643, 5.643024066268032, 4.8481177086493545, 3.459929553699254, 5.621432723243505, 3.905461758901708, 3.9058457766844006, 3.9009398927031382, 3.904968670979552, 3.8847679722331776, 3.8169976955367626, 3.7781948572755177, 4.848514451281651, 3.673508201271653, 6.201239586532646, 5.043889519807134, 2.962586078268935, 17.222504049460294, 10.505229546805776, 15.310775362187066, 9.70407483357261, 8.075698552692456, 7.461519143869382, 33.386496938117524, 13.279743029615732, 30.76593050365261, 17.408828568704923, 14.764246707365912, 12.386577655649416, 12.303907943443443, 13.910806496027677, 16.811296898835216, 7.672628943389145, 14.515742210531263, 8.666316084638039, 18.904970939253634, 11.420171683033704, 8.433380441293902, 8.218286854930254, 7.47984247284025, 8.014229348844601, 36.869333940088566, 25.566297137886426, 8.61163542695825, 8.61108513756259, 6.7269637083140115, 6.7236017719781085, 5.785449038216273, 5.785032655146204, 4.843805478456437, 4.843186499360616, 14.070109529601675, 10.409735741364209, 4.042442108207459, 3.9022205750697707, 6.728057340955879, 3.902340203199262, 12.08488843863386, 4.917950607218084, 4.7406455116296025, 4.1501201593571535, 3.6252447950636877, 4.6226404657272555, 8.612928954345525, 4.5566034228647885, 7.598225408727688, 2.960376348770142, 2.9343236575500424, 4.844298269170503, 3.902408892899422, 5.786357054308833, 21.885649854774876, 5.7858538443705845, 23.83124933746072, 8.310390186655875, 22.17186980201312, 6.662430120911219, 7.423975847104734, 7.542298872293214, 8.320422741851102, 9.706262139992177, 8.967422604570533, 5.7845252003388445, 13.442639151970328, 12.341264640638697, 10.571910579852357, 6.742298490926056, 7.33967274656049, 7.086041045384504, 6.1299406191242145, 6.364630556635391, 8.668194271268545, 7.655177027460907, 6.662232838649127, 5.825873869967669, 8.483022271692954, 8.447655933356552, 3.929592557430566, 3.9296301487494163, 9.390639840876036, 5.60024793714789, 4.740104657321821, 5.824164883500317, 5.664620233598249, 9.38954259992771, 3.630439068844978, 4.633942517267755, 5.5171934644991305, 2.978671916742515, 5.35060008767756, 5.236274602636574, 4.754653561622112, 3.309204226785712, 3.7289237139765086, 11.025719647557697, 5.4802933294266225, 6.776352989976772, 9.885295494384275, 2.9816040396128334, 2.967438141202714, 11.401398776904943, 8.8141464676905, 20.50755248161357, 14.007986500141579, 8.497555217414488, 8.763385420379677, 8.998824815229868, 7.369819198258272, 24.013711813259, 9.88917662073802, 8.078145326651581, 10.477923345328398, 9.976387061930232, 12.313303174977285, 8.330087310477026, 6.247260142050882, 7.046410443137194, 6.797314760491863, 6.903156310430451, 6.201632082938533], \"Total\": [143.0, 37.0, 117.0, 63.0, 38.0, 65.0, 49.0, 105.0, 26.0, 185.0, 52.0, 50.0, 115.0, 29.0, 43.0, 60.0, 34.0, 112.0, 32.0, 53.0, 23.0, 27.0, 37.0, 28.0, 33.0, 21.0, 61.0, 35.0, 21.0, 50.0, 38.827931410292514, 21.269329186472408, 10.179592333199123, 10.17942120633481, 9.255456033812978, 7.4071185818099545, 7.407201192223684, 7.407121509504595, 6.4830893281886635, 6.483090841778898, 34.28466446179698, 28.728361811657695, 5.558966138027251, 5.55897078181372, 32.3991805501534, 25.043828186660786, 19.478683148983045, 24.113322136730094, 20.410220021261736, 7.416890438163939, 63.18396783817781, 7.4329905501976015, 12.073122701920155, 6.495672452518119, 6.492962448578843, 6.504441238164686, 9.2908558904916, 28.82205583529254, 12.063455330880021, 9.310483330638169, 17.672124401229112, 29.728816633491885, 22.33917864289832, 16.749554188810095, 53.04702050055831, 48.472906499252844, 143.40574335205946, 185.17889510715804, 34.53520794037789, 29.90589693969676, 24.170828659694124, 21.434918242769083, 24.23406130150694, 115.67846771287114, 29.90234716137678, 18.642025277336757, 52.35180418087522, 38.350953106840414, 34.577557699082924, 36.49615728867881, 23.571474351033167, 21.685323031338847, 15.084099832974772, 10.36885960546014, 9.425664270719585, 8.482406771204403, 27.34138098926145, 17.89115014608727, 7.539434427349324, 6.596670596917189, 6.596312440763369, 20.73973743843738, 5.653641040127115, 5.653578344754093, 5.653411479873942, 9.43116623772984, 13.197295393337983, 8.474887490239825, 7.539059515710172, 34.87372210813298, 7.545941067887887, 16.982980022591143, 6.6028914738002635, 6.573252123386773, 10.382148238669782, 9.383610690159493, 9.437837573775411, 5.645441847478257, 5.645042458934336, 8.482128232665758, 9.407348540661728, 117.53250251415562, 49.0120078365611, 16.920611059972256, 50.72032445237384, 19.783074831283372, 31.137088848739005, 105.23923362918997, 33.89985627379571, 19.79500099587836, 112.68845410888122, 18.883311206004098, 20.739794906133508, 16.994934052653807, 40.435059742436046, 43.34413280529866, 47.011570298562866, 38.350953106840414, 19.793156662923092, 36.49615728867881, 59.10451660001875, 185.17889510715804, 48.472906499252844, 29.02074709973997, 12.171274343891234, 13.106793186264175, 10.299165669152087, 9.36306102901412, 7.490736554192495, 6.554568885297106, 5.61871185840648, 5.618594652866569, 5.6186368542463585, 5.618049490681529, 9.350550787528944, 12.183609262743671, 7.497510524350833, 14.036222784037452, 6.542655929617902, 6.551405006036838, 6.561377928096186, 6.560410381593834, 9.366975875995948, 15.007160895522667, 5.606355375922763, 5.630880065254361, 5.605920698162593, 8.429824407963435, 15.009616361828533, 20.655471759913222, 5.626543870412415, 5.625201902861852, 11.249439778432222, 15.013297861983151, 50.458866510085535, 24.388587770530734, 50.72032445237384, 33.75637462686736, 23.475760946355052, 23.475862774466954, 185.17889510715804, 112.68845410888122, 52.770677261072564, 53.04702050055831, 23.373309823206668, 22.610969616217552, 40.435059742436046, 115.67846771287114, 64.74036155028108, 26.1777336401827, 18.666751795773845, 28.10503094310625, 143.40574335205946, 42.9909537264314, 117.53250251415562, 60.83670190536582, 35.70721829600412, 17.741356798970614, 12.140513664268497, 11.206813227134623, 8.406381438563223, 17.75326505088751, 6.539102881063036, 5.605915638858471, 5.605882087452025, 5.605796053914577, 5.605751860519827, 5.605661242707297, 24.309441571693338, 5.6046355720040175, 9.350056329379603, 7.481894586540074, 7.4900391933581885, 6.5484067187838395, 6.554345109012721, 6.548278028985893, 6.541967477124412, 10.292472386603976, 8.432297368081715, 5.614994716067531, 65.28797163382019, 5.620802477381314, 5.620466858144542, 5.614214920343319, 8.435804699760276, 14.045823941730028, 10.301342326134682, 60.83670190536582, 37.54080547561364, 9.355473907020592, 21.510535824563657, 143.40574335205946, 115.67846771287114, 17.768951778658547, 22.399716352747564, 32.633113378220614, 45.941901907435486, 59.10451660001875, 105.23923362918997, 18.646677171170516, 117.53250251415562, 23.373309823206668, 33.8276682375201, 12.188066530007656, 61.869185690283565, 47.011570298562866, 17.799076206674005, 16.877368822086787, 42.221416235953825, 27.227931165555738, 48.472906499252844, 52.35180418087522, 34.77215882595921, 11.309254668458381, 15.078408192191892, 8.480937304751839, 7.538176050106745, 7.538167751943924, 6.59537145288871, 9.403630991384409, 8.486848111091767, 7.53809869398106, 6.585794387510391, 10.361083796648172, 5.645208304757746, 12.229509794370035, 15.063675873627274, 8.460685189632546, 7.5364508287862595, 5.659590816500228, 9.36497264858117, 6.576245760533522, 6.5815550896630715, 6.575671507358466, 6.5930644628930315, 6.593453534490649, 6.575145001150559, 6.573887209003166, 8.46034852513098, 6.553194224144845, 11.310737831704264, 9.352694503158425, 5.65262603778111, 33.89985627379571, 20.739794906133508, 31.93767647914894, 19.793253229825886, 15.995038425733538, 15.043951760135016, 105.23923362918997, 33.8276682375201, 112.68845410888122, 52.35180418087522, 42.221416235953825, 34.53520794037789, 35.70721829600412, 45.941901907435486, 64.74036155028108, 16.941157634363226, 59.10451660001875, 24.535068271115048, 185.17889510715804, 52.770677261072564, 29.90234716137678, 36.57888530183718, 19.79500099587836, 43.34413280529866, 37.674068250618305, 26.370804147093644, 9.41589381092291, 9.415724744115353, 7.531819796027779, 7.5319214276496025, 6.589961103891205, 6.5898435575693, 5.648086538811604, 5.647938479467798, 17.882489861814985, 14.131878973059653, 5.648566555970995, 5.642061464912118, 11.280613371556354, 6.591891120451786, 20.583844646096264, 8.486994110604597, 8.439069553632482, 7.543826151872858, 6.591554950976081, 8.476862272535415, 15.950365054736167, 8.465095366248015, 14.130386075817384, 5.630817645667266, 5.636001818298505, 9.34444858852398, 7.535097190341496, 11.292206728939155, 43.34413280529866, 11.305033431140306, 49.0120078365611, 17.92159033741864, 61.869185690283565, 14.094153447396147, 16.97460458724272, 19.793253229825886, 24.23406130150694, 35.712858263435365, 36.57888530183718, 14.133758513665548, 185.17889510715804, 143.40574335205946, 112.68845410888122, 25.49900613003488, 64.74036155028108, 115.67846771287114, 27.227931165555738, 105.23923362918997, 9.475019016346746, 9.468994373106005, 8.520173375587197, 7.572102448176179, 11.357555236381069, 11.348451932627214, 5.674996846390755, 5.6752671234546535, 14.185426508330227, 8.498426457927021, 7.551087665693835, 9.437551438083705, 9.397552946534429, 16.04587703586276, 6.616442867764041, 8.44690281878032, 10.378024266318768, 5.6315787136445, 10.398059187248917, 10.397719374985297, 9.450567550971137, 6.596291037860128, 7.546094430421501, 22.610969616217552, 11.296838395935591, 14.130461023394172, 21.709306271479036, 6.591988664290872, 6.60239604014062, 25.418513836652735, 20.75505229366457, 52.770677261072564, 35.712858263435365, 20.641482685455724, 24.535068271115048, 25.49900613003488, 19.756408791092916, 185.17889510715804, 39.410026289787666, 29.90589693969676, 63.18396783817781, 60.83670190536582, 117.53250251415562, 37.54080547561364, 17.90030821869032, 31.137088848739005, 30.96018163313917, 47.011570298562866, 34.77215882595921], \"Category\": [\"Default\", \"Default\", \"Default\", \"Default\", \"Default\", \"Default\", \"Default\", \"Default\", \"Default\", \"Default\", \"Default\", \"Default\", \"Default\", \"Default\", \"Default\", \"Default\", \"Default\", \"Default\", \"Default\", \"Default\", \"Default\", \"Default\", \"Default\", \"Default\", \"Default\", \"Default\", \"Default\", \"Default\", \"Default\", \"Default\", \"Topic1\", \"Topic1\", \"Topic1\", \"Topic1\", \"Topic1\", \"Topic1\", \"Topic1\", \"Topic1\", \"Topic1\", \"Topic1\", \"Topic1\", \"Topic1\", \"Topic1\", \"Topic1\", \"Topic1\", \"Topic1\", \"Topic1\", \"Topic1\", \"Topic1\", \"Topic1\", \"Topic1\", \"Topic1\", \"Topic1\", \"Topic1\", \"Topic1\", \"Topic1\", \"Topic1\", \"Topic1\", \"Topic1\", \"Topic1\", \"Topic1\", \"Topic1\", \"Topic1\", \"Topic1\", \"Topic1\", \"Topic1\", \"Topic1\", \"Topic1\", \"Topic1\", \"Topic1\", \"Topic1\", \"Topic1\", \"Topic1\", \"Topic1\", \"Topic1\", \"Topic1\", \"Topic1\", \"Topic1\", \"Topic1\", \"Topic1\", \"Topic2\", \"Topic2\", \"Topic2\", \"Topic2\", \"Topic2\", \"Topic2\", \"Topic2\", \"Topic2\", \"Topic2\", \"Topic2\", \"Topic2\", \"Topic2\", \"Topic2\", \"Topic2\", \"Topic2\", \"Topic2\", \"Topic2\", \"Topic2\", \"Topic2\", \"Topic2\", \"Topic2\", \"Topic2\", \"Topic2\", \"Topic2\", \"Topic2\", \"Topic2\", \"Topic2\", \"Topic2\", \"Topic2\", \"Topic2\", \"Topic2\", \"Topic2\", \"Topic2\", \"Topic2\", \"Topic2\", \"Topic2\", \"Topic2\", \"Topic2\", \"Topic2\", \"Topic2\", \"Topic2\", \"Topic2\", \"Topic2\", \"Topic2\", \"Topic2\", \"Topic2\", \"Topic2\", \"Topic2\", \"Topic2\", \"Topic2\", \"Topic2\", \"Topic2\", \"Topic2\", \"Topic3\", \"Topic3\", \"Topic3\", \"Topic3\", \"Topic3\", \"Topic3\", \"Topic3\", \"Topic3\", \"Topic3\", \"Topic3\", \"Topic3\", \"Topic3\", \"Topic3\", \"Topic3\", \"Topic3\", \"Topic3\", \"Topic3\", \"Topic3\", \"Topic3\", \"Topic3\", \"Topic3\", \"Topic3\", \"Topic3\", \"Topic3\", \"Topic3\", \"Topic3\", \"Topic3\", \"Topic3\", \"Topic3\", \"Topic3\", \"Topic3\", \"Topic3\", \"Topic3\", \"Topic3\", \"Topic3\", \"Topic3\", \"Topic3\", \"Topic3\", \"Topic3\", \"Topic3\", \"Topic3\", \"Topic3\", \"Topic3\", \"Topic3\", \"Topic3\", \"Topic3\", \"Topic3\", \"Topic3\", \"Topic3\", \"Topic3\", \"Topic3\", \"Topic3\", \"Topic3\", \"Topic3\", \"Topic4\", \"Topic4\", \"Topic4\", \"Topic4\", \"Topic4\", \"Topic4\", \"Topic4\", \"Topic4\", \"Topic4\", \"Topic4\", \"Topic4\", \"Topic4\", \"Topic4\", \"Topic4\", \"Topic4\", \"Topic4\", \"Topic4\", \"Topic4\", \"Topic4\", \"Topic4\", \"Topic4\", \"Topic4\", \"Topic4\", \"Topic4\", \"Topic4\", \"Topic4\", \"Topic4\", \"Topic4\", \"Topic4\", \"Topic4\", \"Topic4\", \"Topic4\", \"Topic4\", \"Topic4\", \"Topic4\", \"Topic4\", \"Topic4\", \"Topic4\", \"Topic4\", \"Topic4\", \"Topic4\", \"Topic4\", \"Topic4\", \"Topic4\", \"Topic4\", \"Topic4\", \"Topic4\", \"Topic4\", \"Topic4\", \"Topic4\", \"Topic4\", \"Topic4\", \"Topic4\", \"Topic4\", \"Topic4\", \"Topic4\", \"Topic5\", \"Topic5\", \"Topic5\", \"Topic5\", \"Topic5\", \"Topic5\", \"Topic5\", \"Topic5\", \"Topic5\", \"Topic5\", \"Topic5\", \"Topic5\", \"Topic5\", \"Topic5\", \"Topic5\", \"Topic5\", \"Topic5\", \"Topic5\", \"Topic5\", \"Topic5\", \"Topic5\", \"Topic5\", \"Topic5\", \"Topic5\", \"Topic5\", \"Topic5\", \"Topic5\", \"Topic5\", \"Topic5\", \"Topic5\", \"Topic5\", \"Topic5\", \"Topic5\", \"Topic5\", \"Topic5\", \"Topic5\", \"Topic5\", \"Topic5\", \"Topic5\", \"Topic5\", \"Topic5\", \"Topic5\", \"Topic5\", \"Topic5\", \"Topic5\", \"Topic5\", \"Topic5\", \"Topic5\", \"Topic5\", \"Topic5\", \"Topic5\", \"Topic5\", \"Topic5\", \"Topic5\", \"Topic6\", \"Topic6\", \"Topic6\", \"Topic6\", \"Topic6\", \"Topic6\", \"Topic6\", \"Topic6\", \"Topic6\", \"Topic6\", \"Topic6\", \"Topic6\", \"Topic6\", \"Topic6\", \"Topic6\", \"Topic6\", \"Topic6\", \"Topic6\", \"Topic6\", \"Topic6\", \"Topic6\", \"Topic6\", \"Topic6\", \"Topic6\", \"Topic6\", \"Topic6\", \"Topic6\", \"Topic6\", \"Topic6\", \"Topic6\", \"Topic6\", \"Topic6\", \"Topic6\", \"Topic6\", \"Topic6\", \"Topic6\", \"Topic6\", \"Topic6\", \"Topic6\", \"Topic6\", \"Topic6\", \"Topic6\", \"Topic6\", \"Topic6\", \"Topic6\", \"Topic6\", \"Topic6\", \"Topic6\", \"Topic6\", \"Topic6\", \"Topic7\", \"Topic7\", \"Topic7\", \"Topic7\", \"Topic7\", \"Topic7\", \"Topic7\", \"Topic7\", \"Topic7\", \"Topic7\", \"Topic7\", \"Topic7\", \"Topic7\", \"Topic7\", \"Topic7\", \"Topic7\", \"Topic7\", \"Topic7\", \"Topic7\", \"Topic7\", \"Topic7\", \"Topic7\", \"Topic7\", \"Topic7\", \"Topic7\", \"Topic7\", \"Topic7\", \"Topic7\", \"Topic7\", \"Topic7\", \"Topic7\", \"Topic7\", \"Topic7\", \"Topic7\", \"Topic7\", \"Topic7\", \"Topic7\", \"Topic7\", \"Topic7\", \"Topic7\", \"Topic7\", \"Topic7\", \"Topic7\", \"Topic7\", \"Topic7\", \"Topic7\", \"Topic7\", \"Topic7\", \"Topic7\"], \"logprob\": [30.0, 29.0, 28.0, 27.0, 26.0, 25.0, 24.0, 23.0, 22.0, 21.0, 20.0, 19.0, 18.0, 17.0, 16.0, 15.0, 14.0, 13.0, 12.0, 11.0, 10.0, 9.0, 8.0, 7.0, 6.0, 5.0, 4.0, 3.0, 2.0, 1.0, -3.5391, -4.1586, -4.9394, -4.9395, -5.0432, -5.2902, -5.2902, -5.2903, -5.4409, -5.441, -3.7971, -3.9756, -5.6187, -5.6192, -3.8605, -4.1232, -4.3785, -4.217, -4.3881, -5.4481, -3.3108, -5.4544, -4.9861, -5.6325, -5.6348, -5.6453, -5.2903, -4.1679, -5.0432, -5.3273, -4.7064, -4.2333, -4.5103, -4.7943, -3.8724, -4.0458, -3.2416, -3.0727, -4.3255, -4.4592, -4.6304, -4.7041, -4.6697, -3.8592, -4.5666, -4.8242, -4.4689, -4.6249, -4.669, -4.7693, -4.0245, -4.111, -4.491, -4.8918, -4.9957, -5.117, -3.948, -4.3762, -5.2441, -5.3933, -5.3935, -4.2653, -5.5709, -5.571, -5.5712, -5.1114, -4.8029, -5.2516, -5.3935, -3.8866, -5.4209, -4.6114, -5.6046, -5.6209, -5.168, -5.2741, -5.2783, -5.8223, -5.8318, -5.4292, -5.3328, -3.0766, -3.9948, -4.8687, -4.0093, -4.7707, -4.4756, -3.8094, -4.5124, -4.8714, -3.9242, -4.8988, -4.8918, -4.9929, -4.6377, -4.6283, -4.6284, -4.7484, -4.9567, -4.8369, -4.7712, -4.7037, -4.9222, -3.7886, -4.6978, -4.6327, -4.8778, -4.9816, -5.2286, -5.3795, -5.557, -5.5571, -5.5571, -5.5577, -5.0993, -4.8777, -5.3792, -4.7587, -5.5568, -5.5575, -5.5569, -5.5571, -5.228, -4.7837, -5.7734, -5.7734, -5.7899, -5.3867, -4.8271, -4.5087, -5.8094, -5.8114, -5.1433, -4.8666, -3.7537, -4.4812, -3.835, -4.2212, -4.5722, -4.573, -3.0937, -3.5734, -4.1174, -4.1501, -4.6868, -4.7383, -4.4042, -3.8313, -4.1657, -4.6744, -4.895, -4.7092, -4.2373, -4.7011, -4.6189, -4.7436, -4.8119, -4.2377, -4.6392, -4.7252, -5.039, -4.3111, -5.321, -5.4984, -5.4985, -5.4985, -5.4986, -5.4987, -4.0655, -5.5342, -5.0703, -5.3209, -5.3455, -5.4984, -5.4984, -5.5172, -5.5242, -5.0731, -5.2788, -5.7147, -3.2619, -5.7146, -5.7151, -5.7237, -5.3214, -4.8297, -5.1618, -3.5354, -3.9826, -5.2587, -4.5225, -2.9489, -3.2053, -4.7294, -4.5488, -4.3014, -4.0621, -3.8979, -3.5961, -4.7709, -3.6152, -4.6506, -4.4633, -5.0587, -4.1787, -4.3407, -4.8902, -4.9271, -4.6327, -4.7865, -4.6407, -4.7126, -4.8244, -4.5316, -4.2465, -4.8452, -4.9762, -4.9762, -5.127, -4.8529, -4.9846, -5.127, -5.3047, -4.8942, -5.5213, -4.7685, -4.5682, -5.153, -5.3048, -5.6422, -5.1568, -5.521, -5.5209, -5.5222, -5.5212, -5.5263, -5.5439, -5.5542, -5.3047, -5.5823, -5.0587, -5.2652, -5.7973, -4.0372, -4.5315, -4.1548, -4.6109, -4.7945, -4.8736, -3.3753, -4.2972, -3.457, -4.0264, -4.1912, -4.3668, -4.3735, -4.2507, -4.0614, -4.8457, -4.2082, -4.724, -3.944, -4.448, -4.7512, -4.777, -4.8712, -4.8022, -3.1125, -3.4786, -4.5668, -4.5668, -4.8137, -4.8142, -4.9645, -4.9646, -5.1422, -5.1423, -4.0758, -4.3771, -5.323, -5.3583, -4.8136, -5.3583, -4.2279, -5.127, -5.1637, -5.2967, -5.4319, -5.1889, -4.5666, -5.2033, -4.692, -5.6346, -5.6434, -5.1421, -5.3583, -4.9644, -3.634, -4.9645, -3.5489, -4.6024, -3.621, -4.8234, -4.7152, -4.6993, -4.6012, -4.4471, -4.5263, -4.9647, -4.1214, -4.2069, -4.3617, -4.8115, -4.7266, -4.7617, -4.9067, -4.8691, -4.4757, -4.6, -4.7389, -4.8731, -4.4973, -4.5015, -5.2669, -5.2668, -4.3957, -4.9126, -5.0793, -4.8734, -4.9011, -4.3958, -5.346, -5.102, -4.9275, -5.5439, -4.9582, -4.9798, -5.0763, -5.4387, -5.3193, -4.2352, -4.9342, -4.7219, -4.3443, -5.5429, -5.5477, -4.2017, -4.459, -3.6146, -3.9958, -4.4956, -4.4648, -4.4383, -4.638, -3.4568, -4.3439, -4.5462, -4.2861, -4.3352, -4.1247, -4.5155, -4.8032, -4.6829, -4.7189, -4.7034, -4.8106], \"loglift\": [30.0, 29.0, 28.0, 27.0, 26.0, 25.0, 24.0, 23.0, 22.0, 21.0, 20.0, 19.0, 18.0, 17.0, 16.0, 15.0, 14.0, 13.0, 12.0, 11.0, 10.0, 9.0, 8.0, 7.0, 6.0, 5.0, 4.0, 3.0, 2.0, 1.0, 1.7336, 1.7159, 1.672, 1.6719, 1.6634, 1.6392, 1.6392, 1.6391, 1.6217, 1.6217, 1.6, 1.5983, 1.5977, 1.5972, 1.5932, 1.588, 1.5839, 1.532, 1.5277, 1.48, 1.475, 1.4715, 1.4548, 1.4282, 1.4263, 1.414, 1.4125, 1.4027, 1.3984, 1.3734, 1.3535, 1.3064, 1.3152, 1.3191, 1.0883, 1.005, 0.7246, 0.6378, 1.0643, 1.0745, 1.1163, 1.1627, 1.0743, 0.3218, 0.9673, 1.1822, 0.5049, 0.6601, 0.7196, 0.5653, 1.7472, 1.7441, 1.7272, 1.7012, 1.6927, 1.6768, 1.6754, 1.6713, 1.6675, 1.6519, 1.6518, 1.6344, 1.6286, 1.6286, 1.6284, 1.5764, 1.5489, 1.5431, 1.5182, 1.4935, 1.49, 1.4882, 1.4397, 1.4279, 1.4238, 1.4188, 1.4088, 1.3787, 1.3692, 1.3647, 1.3575, 1.0885, 1.0449, 1.2346, 0.9962, 1.1762, 1.0178, 0.4662, 0.896, 1.075, 0.2829, 1.0947, 1.008, 1.106, 0.5944, 0.5343, 0.4531, 0.5367, 0.9898, 0.4977, 0.0813, -0.9932, 0.1286, 1.7752, 1.7349, 1.726, 1.722, 1.7135, 1.6896, 1.6722, 1.6487, 1.6486, 1.6486, 1.6482, 1.5971, 1.554, 1.538, 1.5315, 1.4967, 1.4946, 1.4937, 1.4936, 1.4667, 1.4395, 1.4345, 1.4302, 1.4181, 1.4133, 1.396, 1.3952, 1.3949, 1.3932, 1.3682, 1.3562, 1.257, 1.2565, 1.1705, 1.1914, 1.2037, 1.2028, 0.6168, 0.6337, 0.8484, 0.8106, 1.0935, 1.0751, 0.8279, 0.3497, 0.5957, 0.9925, 1.1101, 0.8867, -0.2712, 0.4698, -0.4538, 0.0801, 0.5446, 1.8182, 1.7961, 1.7901, 1.7638, 1.7441, 1.733, 1.7096, 1.7095, 1.7095, 1.7094, 1.7093, 1.6755, 1.674, 1.6262, 1.5984, 1.5727, 1.5542, 1.5533, 1.5354, 1.5294, 1.5273, 1.521, 1.4916, 1.4911, 1.4907, 1.4903, 1.4828, 1.478, 1.4598, 1.4377, 1.2882, 1.3238, 1.4372, 1.3408, 1.0173, 0.9757, 1.325, 1.2739, 1.1451, 1.0423, 0.9546, 0.6795, 1.2353, 0.5499, 1.1296, 0.9472, 1.3727, 0.6281, 0.7407, 1.1624, 1.1787, 0.5562, 0.8411, 0.4101, 0.2612, 0.5586, 1.9746, 1.972, 1.9488, 1.9356, 1.9356, 1.9184, 1.8378, 1.8087, 1.7848, 1.7422, 1.6996, 1.6797, 1.6594, 1.6513, 1.6434, 1.6073, 1.5563, 1.538, 1.5273, 1.5266, 1.5263, 1.5246, 1.5194, 1.5046, 1.4946, 1.4917, 1.4696, 1.4474, 1.4309, 1.4024, 1.3712, 1.3682, 1.3132, 1.3356, 1.365, 1.3472, 0.9003, 1.1134, 0.7502, 0.9474, 0.9977, 1.023, 0.983, 0.8537, 0.7001, 1.2563, 0.6443, 1.0078, -0.2335, 0.5178, 0.7827, 0.5553, 1.0752, 0.3605, 2.1904, 2.181, 2.1227, 2.1226, 2.0989, 2.0984, 2.0817, 2.0817, 2.0583, 2.0582, 1.9722, 1.9063, 1.8774, 1.8432, 1.6951, 1.6877, 1.6794, 1.6663, 1.6352, 1.6144, 1.6141, 1.6056, 1.5957, 1.5926, 1.5915, 1.569, 1.5593, 1.555, 1.554, 1.5433, 1.5286, 1.5421, 1.4909, 1.4434, 1.1858, 1.4627, 1.3849, 1.2471, 1.1429, 0.9092, 0.8061, 1.3186, -0.4109, -0.2408, -0.1545, 0.8817, 0.0349, -0.5807, 0.7209, -0.5935, 2.2074, 2.0838, 2.0504, 2.0343, 2.0046, 2.0012, 1.9289, 1.9289, 1.8839, 1.8794, 1.8308, 1.8137, 1.7902, 1.7606, 1.6962, 1.696, 1.6646, 1.6595, 1.632, 1.6105, 1.6095, 1.6066, 1.5915, 1.5782, 1.5731, 1.5615, 1.5097, 1.503, 1.4967, 1.4947, 1.44, 1.3513, 1.3605, 1.4089, 1.2669, 1.2549, 1.3103, 0.2537, 0.9139, 0.9875, 0.4997, 0.4885, 0.0404, 0.7909, 1.2438, 0.8105, 0.7803, 0.378, 0.5724]}, \"token.table\": {\"Topic\": [5, 6, 2, 7, 4, 5, 2, 6, 7, 3, 4, 6, 7, 3, 6, 1, 2, 2, 3, 6, 7, 1, 7, 1, 3, 2, 3, 4, 5, 1, 2, 3, 5, 7, 3, 5, 6, 1, 2, 3, 4, 6, 4, 7, 3, 5, 7, 2, 3, 3, 6, 2, 6, 4, 5, 1, 2, 3, 6, 1, 2, 3, 5, 6, 7, 6, 6, 5, 6, 7, 1, 4, 6, 7, 1, 1, 5, 5, 7, 1, 1, 3, 4, 5, 7, 1, 3, 4, 6, 2, 3, 4, 3, 7, 1, 4, 2, 3, 4, 5, 6, 7, 1, 3, 4, 6, 1, 5, 3, 5, 7, 3, 5, 7, 5, 2, 3, 5, 6, 4, 3, 5, 1, 3, 6, 1, 7, 1, 4, 6, 7, 1, 4, 5, 7, 2, 5, 6, 7, 4, 5, 2, 3, 6, 3, 4, 5, 6, 7, 2, 5, 3, 7, 4, 2, 3, 5, 7, 1, 5, 7, 2, 7, 4, 3, 5, 1, 2, 1, 2, 4, 6, 7, 2, 5, 7, 2, 7, 2, 4, 6, 4, 5, 5, 7, 3, 4, 6, 7, 1, 2, 5, 2, 3, 5, 6, 1, 4, 1, 5, 3, 5, 6, 1, 3, 4, 5, 3, 4, 2, 6, 4, 7, 2, 7, 4, 5, 7, 2, 5, 2, 5, 4, 6, 2, 4, 1, 7, 6, 1, 1, 2, 3, 4, 5, 6, 7, 4, 5, 4, 5, 7, 2, 6, 7, 1, 2, 5, 6, 7, 1, 7, 1, 4, 2, 3, 3, 5, 1, 7, 1, 6, 6, 7, 1, 7, 4, 6, 1, 3, 2, 4, 7, 6, 2, 1, 2, 3, 1, 2, 3, 4, 5, 6, 3, 4, 6, 2, 3, 4, 6, 4, 2, 5, 6, 2, 5, 3, 7, 1, 3, 4, 5, 6, 1, 5, 2, 3, 4, 5, 7, 3, 5, 6, 7, 7, 2, 7, 1, 5, 6, 7, 1, 3, 7, 1, 3, 4, 7, 1, 4, 5, 7, 5, 6, 7, 2, 5, 6, 2, 3, 4, 5, 7, 4, 7, 2, 4, 7, 2, 2, 7, 2, 7, 1, 2, 4, 5, 3, 5, 2, 1, 3, 1, 3, 2, 3, 2, 2, 3, 4, 6, 7, 4, 2, 3, 4, 5, 6, 4, 4, 6, 2, 3, 4, 5, 2, 3, 1, 2, 5, 2, 3, 5, 6, 5, 7, 1, 2, 3, 5, 6, 1, 3, 4, 2, 6, 3, 5, 7, 3, 5, 4, 6, 7, 1, 2, 3, 5, 6, 7, 1, 2, 3, 7, 3, 7, 2, 3, 4, 5, 7, 2, 3, 2, 7, 1, 2, 5, 6, 7, 2, 3, 4, 2, 6, 7, 1, 2, 4, 2, 2, 3, 4, 5, 6, 7, 3, 1, 3, 7, 4, 7, 1, 5, 1, 6, 7, 3, 2, 5, 2, 3, 4, 5, 2, 6, 3, 6, 7, 4, 5, 1, 2, 4, 5, 7, 3, 7, 1, 2, 3, 4, 5, 7, 3, 1, 2, 3, 5, 2, 3, 5, 6, 7, 1, 3, 5, 7, 3, 5, 3, 7, 2, 3, 6, 7, 1, 3, 6, 1, 6, 3, 4, 5, 7, 1, 2, 4, 5, 7, 1, 4, 3, 5, 7, 1, 5, 6, 1, 5, 7, 1, 5, 6, 7, 3, 1, 2, 1, 2, 5, 1, 4, 6, 1, 3, 1, 2, 3, 5, 7, 1, 3, 4, 5, 6, 6, 1, 1, 7, 4, 2, 2, 6, 2, 3, 5, 6, 7, 2, 3, 4, 5, 6, 3, 1, 2, 3, 4, 5, 2, 5, 6, 7, 6, 6, 4, 6, 1, 3, 6, 7, 1, 3, 7, 1, 3, 5, 1, 1, 5, 1, 6, 1, 2, 6, 2, 3, 1, 2, 4, 6, 3, 6, 7, 1, 2, 3, 5, 7, 1, 2, 4, 5, 6, 7, 3, 6, 2, 4, 4, 6, 7, 2, 5, 6, 7, 3, 7, 2, 6, 3, 4, 7, 2, 6, 4, 5, 1, 2, 3, 4, 5, 6, 7, 2, 1, 2, 3, 4, 5, 6, 2, 6, 7, 2, 7, 1, 5, 2, 5, 7, 3, 4, 5, 7, 3, 7, 5, 3, 5, 7, 4, 6, 1, 5, 1, 5, 6, 7, 1, 6, 3, 2, 3, 5, 1, 2, 3, 4, 5, 3, 4, 4, 6, 2, 3, 4, 6, 3, 3, 4, 7, 4, 2, 5, 2, 4, 3, 4, 2, 5, 6, 2, 1, 3, 4, 5, 1, 5, 4, 7, 2, 3, 6, 7, 2, 3, 6, 3, 5, 7, 2, 3, 5, 6, 7, 3, 4, 1, 3, 5, 7, 3, 1, 2, 3, 4, 5, 6, 7, 3, 4, 7, 2, 7, 1, 3, 4, 2, 5], \"Freq\": [0.303418543101706, 0.606837086203412, 0.17620315982435716, 0.7048126392974287, 0.3041514463978184, 0.6083028927956368, 0.4766113263619984, 0.15887044212066612, 0.31774088424133223, 0.31473122509877977, 0.15736561254938988, 0.03934140313734747, 0.43275543451082216, 0.7621474434020488, 0.15242948868040976, 0.2131375720965685, 0.7459815023379898, 0.7455470316412391, 0.11469954332942141, 0.028674885832355352, 0.08602465749706606, 0.6444348576679898, 0.21481161922266326, 0.15284312834992703, 0.7642156417496351, 0.7085863444072509, 0.17714658610181272, 0.9012426702433611, 0.05632766689021007, 0.04946202658632472, 0.29677215951794833, 0.3709651993974354, 0.1236550664658118, 0.14838607975897417, 0.738697360192037, 0.08207748446578189, 0.08207748446578189, 0.2558677825571722, 0.1628249525363823, 0.2558677825571722, 0.18608566004157975, 0.11630353752598735, 0.711254019450036, 0.237084673150012, 0.1516655868990288, 0.6066623475961151, 0.1516655868990288, 0.3330380870322342, 0.6660761740644684, 0.7110855875173082, 0.17777139687932705, 0.4422808681155456, 0.5307370417386548, 0.1518419709392153, 0.7592098546960765, 0.5089824036340709, 0.07540480053838086, 0.37702400269190434, 0.018851200134595215, 0.3294111889192391, 0.06480220109886671, 0.30781045521961686, 0.10260348507320563, 0.07020238452377227, 0.12960440219773342, 0.9293777248263737, 0.985938838079213, 0.1178273469932645, 0.5891367349663225, 0.235654693986529, 0.7596863831491893, 0.03165359929788289, 0.03165359929788289, 0.15826799648941445, 0.9786769116916425, 0.6567338972728475, 0.29851540785129427, 0.13206371768528574, 0.7923823061117146, 0.9450364748327419, 0.06574978384301924, 0.18081190556830293, 0.5588731626656636, 0.01643744596075481, 0.16437445960754812, 0.15316757053024824, 0.12253405642419858, 0.689254067386117, 0.030633514106049645, 0.10675804157482946, 0.7473062910238062, 0.10675804157482946, 0.4864895308209308, 0.4864895308209308, 0.8642193884088043, 0.12345991262982918, 0.25525631081433664, 0.04254271846905611, 0.3190703885179208, 0.12762815540716832, 0.08508543693811221, 0.14889951464169637, 0.35563429195995017, 0.12551798539762948, 0.42536650606974435, 0.08367865693175298, 0.10634190143320153, 0.8507352114656123, 0.19915457722057398, 0.6638485907352466, 0.06638485907352466, 0.17682312416383245, 0.5304693724914973, 0.26523468624574864, 0.9432919632028913, 0.12503877432281188, 0.25007754864562376, 0.5001550972912475, 0.06251938716140594, 0.9175570577694603, 0.7620350564764333, 0.15240701129528667, 0.4951708197277609, 0.12379270493194022, 0.33011387981850726, 0.8385299501130314, 0.1197899928732902, 0.5598341857006203, 0.04665284880838502, 0.27991709285031013, 0.09330569761677004, 0.029561600077738902, 0.41386240108834466, 0.3843008010106057, 0.1773696004664334, 0.07843442955387314, 0.274520503438556, 0.274520503438556, 0.35295493299242914, 0.3041248871814886, 0.6082497743629772, 0.14190281150724196, 0.3547570287681049, 0.4966598402753469, 0.11018097488784247, 0.3672699162928082, 0.22036194977568493, 0.22036194977568493, 0.07345398325856164, 0.1326594464461535, 0.795956678676921, 0.31787906213617945, 0.6357581242723589, 0.8921186642313977, 0.04841332173979846, 0.6777865043571785, 0.1452399652193954, 0.1452399652193954, 0.1635388526301126, 0.6541554105204505, 0.1635388526301126, 0.4232550033028399, 0.5290687541285499, 0.9582130720118526, 0.3545953208769913, 0.5909922014616522, 0.7687055377889487, 0.15374110755778972, 0.1181990409750178, 0.5909952048750889, 0.0590995204875089, 0.0590995204875089, 0.1181990409750178, 0.3846997457560886, 0.09617493643902215, 0.48087468219511076, 0.7951294538375454, 0.1325215756395909, 0.35422660034632397, 0.08855665008658099, 0.5313399005194859, 0.822725604001065, 0.164545120800213, 0.8248056178655357, 0.11782937398079082, 0.0963574543996238, 0.0963574543996238, 0.1927149087992476, 0.5781447263977428, 0.152116999912999, 0.152116999912999, 0.608467999651996, 0.5560308543445167, 0.10109651897173032, 0.20219303794346064, 0.15164477845759547, 0.9450263086344709, 0.8923143267693074, 0.8702201734961177, 0.10442642081953411, 0.11184124892309653, 0.05592062446154827, 0.7828887424616757, 0.21428473704276715, 0.4821406583462261, 0.21428473704276715, 0.05357118426069179, 0.15285921299620403, 0.7642960649810202, 0.9143649331326371, 0.07314919465061097, 0.7628527208804768, 0.15257054417609536, 0.8482514037336771, 0.10603142546670964, 0.08811774556888799, 0.08811774556888799, 0.7049419645511039, 0.7073696406632046, 0.2357898802210682, 0.757731012450325, 0.151546202490065, 0.7124771774421833, 0.17811929436054583, 0.2912241827348023, 0.6795230930478721, 0.8214107636344676, 0.10267634545430845, 0.9104920242162976, 0.9254844867103015, 0.17761977494072143, 0.07612276068888062, 0.10149701425184082, 0.17761977494072143, 0.12687126781480101, 0.10149701425184082, 0.25374253562960203, 0.7635445100955172, 0.15270890201910345, 0.15146016596403714, 0.30292033192807427, 0.45438049789211143, 0.4692727561110621, 0.4896759194202387, 0.020403163309176613, 0.09212638925397323, 0.23031597313493307, 0.18425277850794647, 0.04606319462698662, 0.46063194626986614, 0.31923204019896706, 0.6384640803979341, 0.8089643564271536, 0.13482739273785893, 0.7085362152453569, 0.17713405381133923, 0.8002656322405771, 0.13337760537342952, 0.3551597626209202, 0.5919329377015337, 0.42806164131636876, 0.5350770516454609, 0.1760942349277337, 0.7043769397109348, 0.3551402016550509, 0.5327103024825763, 0.7635595156264816, 0.15271190312529634, 0.8841218494229803, 0.889883682595186, 0.9757556806790018, 0.8010638990141087, 0.13351064983568478, 0.8852555579029838, 0.9683969184895959, 0.055893555854970925, 0.8942968936795348, 0.8899022458309988, 0.34704591065777524, 0.2602844329933314, 0.14460246277407302, 0.057840985109629206, 0.08676147766444381, 0.08676147766444381, 0.7117585977629566, 0.11862643296049276, 0.11862643296049276, 0.6377992666122638, 0.3188996333061319, 0.891914955933612, 0.8852787646637305, 0.9060572150562942, 0.9284516056811206, 0.17703606571527752, 0.7081442628611101, 0.7958552373140148, 0.1326425395523358, 0.23533768397024524, 0.7060130519107357, 0.2865230766102172, 0.09550769220340573, 0.21011692284749262, 0.3247261534915795, 0.07640615376272458, 0.6790355096846981, 0.2829314623686242, 0.17255184039711363, 0.20131048046329925, 0.2588277605956705, 0.17255184039711363, 0.17255184039711363, 0.07049488426821439, 0.14098976853642878, 0.07049488426821439, 0.6344539584139296, 0.9498661674950498, 0.1173685036580704, 0.8215795256064928, 0.5015733194776434, 0.06687644259701911, 0.13375288519403822, 0.26750577038807644, 0.7879461773149318, 0.12441255431288396, 0.08294170287525597, 0.30643720334309305, 0.06128744066861861, 0.4902995253489489, 0.12257488133723722, 0.2906767934954442, 0.19378452899696277, 0.09689226449848139, 0.38756905799392555, 0.1325587281397963, 0.5302349125591852, 0.2651174562795926, 0.23593635660212317, 0.11796817830106159, 0.5898408915053079, 0.4547026102642317, 0.1010450245031626, 0.0505225122515813, 0.1010450245031626, 0.2526125612579065, 0.7115498586081003, 0.2371832862027001, 0.1869639156086612, 0.1869639156086612, 0.5608917468259836, 0.9644262127663584, 0.7572440073927602, 0.15144880147855203, 0.6742342566375145, 0.19263835903928983, 0.11255587976788288, 0.11255587976788288, 0.5627793988394144, 0.1688338196518243, 0.30387955015998896, 0.6077591003199779, 0.8843858257912287, 0.17836899963470612, 0.7134759985388245, 0.17838283019732368, 0.7135313207892947, 0.1777289972372866, 0.7109159889491464, 0.8843956331903416, 0.5019888008671817, 0.10209941712552849, 0.2722651123347426, 0.017016569520921412, 0.10209941712552849, 0.8919202940767864, 0.08887210291866594, 0.5332326175119957, 0.1481201715311099, 0.1481201715311099, 0.059248068612443965, 0.8919339825979677, 0.35518820282502594, 0.5327823042375389, 0.354167060451033, 0.059027843408505504, 0.11805568681701101, 0.47222274726804403, 0.4534671307474955, 0.5323309795731469, 0.058997300278998, 0.41298110195298604, 0.501477052371483, 0.2768540797414003, 0.023071173311783356, 0.18456938649426685, 0.5075658128592339, 0.17621155166561733, 0.7048462066624693, 0.30140159450190185, 0.2740014495471835, 0.19180101468302846, 0.13700072477359174, 0.1096005798188734, 0.5378384077364319, 0.3723496668944528, 0.08274437042098952, 0.5660207079571239, 0.4245155309678429, 0.37899835738423304, 0.20844909656132818, 0.3979482752534447, 0.6662395466303417, 0.2664958186521367, 0.6407598470076984, 0.21358661566923282, 0.07119553855641093, 0.15446314726298566, 0.10812420308408995, 0.2934799797996727, 0.2625873503470756, 0.10812420308408995, 0.07723157363149283, 0.7839209956253523, 0.04899506222658452, 0.04899506222658452, 0.04899506222658452, 0.7103685309659157, 0.17759213274147892, 0.08401662585785127, 0.2800554195261709, 0.19603879366831964, 0.3360665034314051, 0.11202216781046836, 0.8259696672152413, 0.11799566674503448, 0.3022772265962117, 0.6045544531924234, 0.11172991970673064, 0.11172991970673064, 0.2793247992668266, 0.11172991970673064, 0.33518975912019194, 0.10688929389772268, 0.10688929389772268, 0.6413357633863361, 0.33479171697572785, 0.4463889559676371, 0.16739585848786392, 0.09297769317843435, 0.27893307953530305, 0.6043550056598233, 0.8844217368220805, 0.9548398650223632, 0.11850188385897416, 0.47400753543589663, 0.17775282578846124, 0.05925094192948708, 0.11850188385897416, 0.9153920120450503, 0.7454575110520997, 0.08282861233912218, 0.08282861233912218, 0.7116846519971298, 0.17792116299928246, 0.30519467783071674, 0.6103893556614335, 0.1774307447441345, 0.5322922342324036, 0.1774307447441345, 0.9612241095204793, 0.482164845180925, 0.5303813296990175, 0.09393294474501304, 0.2191768710716971, 0.2191768710716971, 0.4696647237250652, 0.943128550160781, 0.9558306604477154, 0.0707619985924273, 0.7076199859242729, 0.1415239971848546, 0.23638747396614357, 0.7091624218984307, 0.47449186898570894, 0.18567073134223394, 0.22693089386273035, 0.020630081260248217, 0.08252032504099287, 0.26486250571376846, 0.6621562642844212, 0.22609686477121108, 0.19379731266103806, 0.12919820844069205, 0.06459910422034602, 0.12919820844069205, 0.22609686477121108, 0.873857192816761, 0.04100278414678533, 0.24601670488071195, 0.5740389780549945, 0.08200556829357065, 0.4817406043599183, 0.06423208058132243, 0.12846416116264486, 0.12846416116264486, 0.22481228203462852, 0.6939130266866684, 0.03469565133433342, 0.1387826053373337, 0.10408695400300026, 0.17714138186135775, 0.708565527445431, 0.45509786997225105, 0.45509786997225105, 0.23564613711274335, 0.05891153427818584, 0.41238073994730085, 0.23564613711274335, 0.6391105382443977, 0.23546177724793596, 0.10091219024911542, 0.9403211462221517, 0.9104757836062419, 0.8899885998322608, 0.5860289815649031, 0.1864637668615601, 0.21310144784178298, 0.06767672303403512, 0.18611098834359657, 0.4060603382042107, 0.25378771137763173, 0.0845959037925439, 0.7700645182530483, 0.15401290365060968, 0.13268845279005811, 0.6634422639502906, 0.13268845279005811, 0.8841367124487551, 0.6066981481089301, 0.30334907405446504, 0.8994470732527676, 0.5300736567833957, 0.17669121892779857, 0.49225127091601883, 0.3474714853524839, 0.08686787133812097, 0.02895595711270699, 0.9344875432953473, 0.15213169694832343, 0.7606584847416171, 0.5900646435327378, 0.10728448064231595, 0.32185344192694787, 0.34007252388234255, 0.048581789126048935, 0.5829814695125872, 0.7697432462225978, 0.15394864924451956, 0.15184945967267777, 0.1012329731151185, 0.202465946230237, 0.15184945967267777, 0.35431540590291477, 0.24205023245553017, 0.2334055812964041, 0.41494325563805173, 0.05186790695475647, 0.06051255811388254, 0.9558478231455126, 0.9450368483623663, 0.8072121119325913, 0.13453535198876523, 0.9516579825061234, 0.9095497360144025, 0.3981368686054118, 0.5308491581405491, 0.08151597451858673, 0.16303194903717347, 0.3668218853336403, 0.04075798725929337, 0.3668218853336403, 0.2660604703627726, 0.04751079827906654, 0.30406910898602585, 0.31357126864183915, 0.05701295793487984, 0.9648269875261373, 0.15854498036338152, 0.07927249018169076, 0.574725553817258, 0.1783631029088042, 0.9284799709328516, 0.5295695747989457, 0.11768212773309905, 0.058841063866549526, 0.29420531933274763, 0.9821078985647577, 0.9293902655095045, 0.4388614289377332, 0.5642504086342285, 0.22400895332958565, 0.11200447666479282, 0.2800111916619821, 0.39201566832677487, 0.6267016448454175, 0.13429320960973232, 0.17905761281297644, 0.10694557173399072, 0.8555645738719257, 0.9097288974333746, 0.8994478246227248, 0.864355032401816, 0.9726547259280582, 0.7534289717230362, 0.21526542049229608, 0.23699295133065082, 0.11849647566532541, 0.5924823783266271, 0.2665394226028046, 0.6663485565070115, 0.26814428941422663, 0.10725771576569065, 0.5362885788284533, 0.05362885788284533, 0.2650377646928394, 0.1325188823464197, 0.5300755293856788, 0.21348490994889693, 0.14232327329926464, 0.39138900157297773, 0.14232327329926464, 0.07116163664963232, 0.14546821490513706, 0.08081567494729837, 0.2909364298102741, 0.06465253995783869, 0.35558896976811283, 0.06465253995783869, 0.1772401818411555, 0.708960727364622, 0.17809455762059048, 0.7123782304823619, 0.2659429856504424, 0.6205336331843656, 0.08864766188348079, 0.0505222657634233, 0.505222657634233, 0.4041781261073864, 0.0505222657634233, 0.45480103633711344, 0.45480103633711344, 0.8678991261789183, 0.09643323624210204, 0.17704068429619793, 0.2655610264442969, 0.4426017107404948, 0.3034030695371872, 0.6068061390743744, 0.30417580139297734, 0.6083516027859547, 0.19136723118373494, 0.027338175883390704, 0.13669087941695351, 0.08201452765017211, 0.21870540706712563, 0.24604358295051634, 0.08201452765017211, 0.9281296302080378, 0.07099218871411869, 0.22185058973162095, 0.3105908256242693, 0.026622070767794513, 0.27509473126720996, 0.09761425948191321, 0.7654722541454507, 0.058882481088111595, 0.1766474432643348, 0.6357388494025358, 0.21191294980084527, 0.3203426334036877, 0.6406852668073754, 0.19234358681595015, 0.19234358681595015, 0.48085896703987535, 0.19589959549635866, 0.43533243443635256, 0.3047327041054468, 0.04353324344363526, 0.4953836954371771, 0.4953836954371771, 0.928607617971205, 0.24090519885253375, 0.2890862386230405, 0.43362935793456076, 0.7486585912862052, 0.10695122732660074, 0.42768423566590263, 0.5346052945823783, 0.46819067160329914, 0.26753752663045666, 0.1672109541440354, 0.06688438165761416, 0.8458592334282395, 0.11667023909355029, 0.9155557602431625, 0.38337415432735433, 0.5537626673617341, 0.04259712825859493, 0.09473865058542928, 0.21316196381721586, 0.07105398793907196, 0.2605312891099305, 0.3552699396953598, 0.7631950696671501, 0.15263901393343002, 0.6801086985776861, 0.19431677102219602, 0.22473076431349542, 0.16854807323512155, 0.5056442197053647, 0.056182691078373856, 0.9037673204302475, 0.6222532088593975, 0.177786631102685, 0.177786631102685, 0.8919554328233383, 0.35381785149634326, 0.5307267772445149, 0.13365598625233235, 0.8019359175139942, 0.4706222645916594, 0.4706222645916594, 0.5051780498562319, 0.35362463489936236, 0.10103560997124639, 0.9095991213093054, 0.17857368981859262, 0.17857368981859262, 0.5357210694557778, 0.08928684490929631, 0.9254847027807905, 0.9286065957428622, 0.7116421571646415, 0.17791053929116038, 0.2830778988300655, 0.07076947470751638, 0.566155797660131, 0.07076947470751638, 0.23626431994781652, 0.23626431994781652, 0.5906607998695413, 0.3988313772648093, 0.4653032734756108, 0.06647189621080155, 0.12779083047217712, 0.5537602653794341, 0.04259694349072571, 0.2129847174536285, 0.04259694349072571, 0.7836866206277115, 0.2137327147166486, 0.3056032317373738, 0.4584048476060607, 0.07640080793434345, 0.1528016158686869, 0.889895561807164, 0.3389746263615355, 0.2868246838443762, 0.05214994251715931, 0.10429988503431863, 0.07822491377573897, 0.15644982755147793, 0.026074971258579657, 0.08204746811464704, 0.5743322768025293, 0.24614240434394113, 0.10560783548886844, 0.8448626839109475, 0.6631599140191291, 0.24868496775717341, 0.8919410142311125, 0.1930299994916558, 0.6756049982207953], \"Term\": [\"abrir\", \"abrir\", \"adapta\", \"adapta\", \"adecuado\", \"adecuado\", \"adem\\u00e1s\", \"adem\\u00e1s\", \"adem\\u00e1s\", \"ahora\", \"ahora\", \"ahora\", \"ahora\", \"alguien\", \"alguien\", \"alguna\", \"alguna\", \"amazon\", \"amazon\", \"amazon\", \"amazon\", \"anillo\", \"anillo\", \"apenas\", \"apenas\", \"articulo\", \"articulo\", \"art\\u00edculo\", \"art\\u00edculo\", \"as\\u00ed\", \"as\\u00ed\", \"as\\u00ed\", \"as\\u00ed\", \"as\\u00ed\", \"aun\", \"aun\", \"aun\", \"aunque\", \"aunque\", \"aunque\", \"aunque\", \"aunque\", \"auriculares\", \"auriculares\", \"azul\", \"azul\", \"azul\", \"a\\u00fan\", \"a\\u00fan\", \"bajo\", \"bajo\", \"barato\", \"barato\", \"base\", \"base\", \"bastante\", \"bastante\", \"bastante\", \"bastante\", \"bien\", \"bien\", \"bien\", \"bien\", \"bien\", \"bien\", \"bolsa\", \"bonita\", \"bonitas\", \"bonitas\", \"bonitas\", \"bonito\", \"bonito\", \"bonito\", \"bonito\", \"bonitos\", \"botones\", \"botones\", \"bot\\u00f3n\", \"bot\\u00f3n\", \"brillo\", \"buen\", \"buen\", \"buen\", \"buen\", \"buen\", \"buena\", \"buena\", \"buena\", \"buena\", \"buenos\", \"buenos\", \"buenos\", \"cable\", \"cable\", \"cadena\", \"cadena\", \"caja\", \"caja\", \"caja\", \"caja\", \"caja\", \"caja\", \"calidad\", \"calidad\", \"calidad\", \"calidad\", \"cambiar\", \"cambiar\", \"carga\", \"carga\", \"carga\", \"cargador\", \"cargador\", \"cargador\", \"cargar\", \"caso\", \"caso\", \"caso\", \"caso\", \"cd\", \"cerrar\", \"cerrar\", \"cierre\", \"cierre\", \"cierre\", \"colgante\", \"colgante\", \"color\", \"color\", \"color\", \"color\", \"compra\", \"compra\", \"compra\", \"compra\", \"comprar\", \"comprar\", \"comprar\", \"comprar\", \"compras\", \"compras\", \"compre\", \"compre\", \"compre\", \"compr\\u00e9\", \"compr\\u00e9\", \"compr\\u00e9\", \"compr\\u00e9\", \"compr\\u00e9\", \"condiciones\", \"condiciones\", \"conectar\", \"conectar\", \"conjunto\", \"consola\", \"consola\", \"consola\", \"consola\", \"contenta\", \"contenta\", \"contenta\", \"contento\", \"contento\", \"correcto\", \"corresponde\", \"corresponde\", \"corta\", \"corta\", \"cosa\", \"cosa\", \"cosa\", \"cosa\", \"cosa\", \"cosas\", \"cosas\", \"cosas\", \"cuenta\", \"cuenta\", \"cuidado\", \"cuidado\", \"cuidado\", \"cumple\", \"cumple\", \"c\\u00f3mo\", \"c\\u00f3mo\", \"c\\u00f3modo\", \"c\\u00f3modo\", \"c\\u00f3modo\", \"c\\u00f3modo\", \"deber\\u00edan\", \"deber\\u00edan\", \"deber\\u00edan\", \"decir\", \"decir\", \"decir\", \"decir\", \"dedo\", \"deja\", \"demasiado\", \"demasiado\", \"dem\\u00e1s\", \"dem\\u00e1s\", \"dem\\u00e1s\", \"dentro\", \"dentro\", \"dentro\", \"dentro\", \"desear\", \"desear\", \"despu\\u00e9s\", \"despu\\u00e9s\", \"detalle\", \"detalle\", \"devoluci\\u00f3n\", \"devoluci\\u00f3n\", \"devolver\", \"devolver\", \"devolver\", \"devolverlo\", \"devolverlo\", \"dinero\", \"dinero\", \"dio\", \"dio\", \"disco\", \"disco\", \"dise\\u00f1o\", \"dise\\u00f1o\", \"divertido\", \"dorado\", \"dos\", \"dos\", \"dos\", \"dos\", \"dos\", \"dos\", \"dos\", \"doy\", \"doy\", \"dura\", \"dura\", \"dura\", \"d\\u00eda\", \"d\\u00eda\", \"d\\u00eda\", \"d\\u00edas\", \"d\\u00edas\", \"d\\u00edas\", \"d\\u00edas\", \"d\\u00edas\", \"elegante\", \"elegante\", \"elegantes\", \"elegantes\", \"empresa\", \"empresa\", \"encajan\", \"encajan\", \"encanta\", \"encanta\", \"encantada\", \"encantada\", \"encant\\u00f3\", \"encant\\u00f3\", \"encontr\\u00e9\", \"encontr\\u00e9\", \"enga\\u00f1o\", \"enga\\u00f1o\", \"enseguida\", \"entra\", \"entrega\", \"entretenido\", \"entretenido\", \"enviaron\", \"env\\u00edo\", \"espa\\u00f1ol\", \"espa\\u00f1ol\", \"espa\\u00f1ola\", \"esperaba\", \"esperaba\", \"esperaba\", \"esperaba\", \"esperaba\", \"esperaba\", \"esperado\", \"esperado\", \"esperado\", \"esperando\", \"esperando\", \"exactamente\", \"excesivamente\", \"expectativas\", \"falta\", \"familia\", \"familia\", \"fecha\", \"fecha\", \"fino\", \"fino\", \"foto\", \"foto\", \"foto\", \"foto\", \"foto\", \"fotos\", \"fotos\", \"funciona\", \"funciona\", \"funciona\", \"funciona\", \"funciona\", \"funda\", \"funda\", \"funda\", \"funda\", \"f\\u00e1cil\", \"genial\", \"genial\", \"grande\", \"grande\", \"grande\", \"grande\", \"grandes\", \"grandes\", \"grandes\", \"gustado\", \"gustado\", \"gustado\", \"gustado\", \"gusto\", \"gusto\", \"gusto\", \"gusto\", \"gust\\u00f3\", \"gust\\u00f3\", \"gust\\u00f3\", \"haber\", \"haber\", \"haber\", \"hacer\", \"hacer\", \"hacer\", \"hacer\", \"hacer\", \"hija\", \"hija\", \"hijo\", \"hijo\", \"hijo\", \"historia\", \"hola\", \"hola\", \"hoy\", \"hoy\", \"igual\", \"igual\", \"igual\", \"igual\", \"imposible\", \"imposible\", \"ingles\", \"ingl\\u00e9s\", \"ingl\\u00e9s\", \"instrucciones\", \"instrucciones\", \"interesante\", \"interesante\", \"juegazo\", \"juego\", \"juego\", \"juego\", \"juego\", \"juego\", \"jugabilidad\", \"jugar\", \"jugar\", \"jugar\", \"jugar\", \"jugar\", \"juguete\", \"junto\", \"junto\", \"llega\", \"llega\", \"llega\", \"llega\", \"llegado\", \"llegado\", \"llego\", \"llego\", \"llego\", \"lleg\\u00f3\", \"lleg\\u00f3\", \"lleg\\u00f3\", \"lleg\\u00f3\", \"luces\", \"luces\", \"mal\", \"mal\", \"mal\", \"mal\", \"mal\", \"mala\", \"mala\", \"mala\", \"malo\", \"malo\", \"mando\", \"mando\", \"mando\", \"mandos\", \"mandos\", \"mano\", \"mano\", \"mano\", \"mas\", \"mas\", \"mas\", \"mas\", \"mas\", \"mas\", \"material\", \"material\", \"material\", \"material\", \"media\", \"media\", \"mejor\", \"mejor\", \"mejor\", \"mejor\", \"mejor\", \"mejores\", \"mejores\", \"merece\", \"merece\", \"meses\", \"meses\", \"meses\", \"meses\", \"meses\", \"misma\", \"misma\", \"misma\", \"mismo\", \"mismo\", \"mismo\", \"momento\", \"momento\", \"momento\", \"mont\\u00f3n\", \"mucha\", \"muchas\", \"muchas\", \"muchas\", \"muchas\", \"muchas\", \"much\\u00edsimo\", \"mujer\", \"mujer\", \"mujer\", \"mu\\u00f1eca\", \"mu\\u00f1eca\", \"ningun\", \"ningun\", \"ni\\u00f1os\", \"ni\\u00f1os\", \"ni\\u00f1os\", \"normal\", \"nunca\", \"nunca\", \"original\", \"original\", \"original\", \"original\", \"originales\", \"pandora\", \"paquete\", \"paquete\", \"paquete\", \"par\", \"par\", \"parece\", \"parece\", \"parece\", \"parece\", \"parece\", \"parecido\", \"parecido\", \"parte\", \"parte\", \"parte\", \"parte\", \"parte\", \"parte\", \"pc\", \"pedido\", \"pedido\", \"pedido\", \"pedido\", \"pena\", \"pena\", \"pena\", \"pena\", \"pena\", \"pendientes\", \"pendientes\", \"pendientes\", \"pendientes\", \"pensaba\", \"pensaba\", \"peor\", \"peor\", \"peque\\u00f1a\", \"peque\\u00f1a\", \"peque\\u00f1a\", \"peque\\u00f1a\", \"peque\\u00f1o\", \"peque\\u00f1o\", \"peque\\u00f1o\", \"peque\\u00f1os\", \"perdi\\u00f3\", \"perfecta\", \"perfectamente\", \"perfectamente\", \"perfectamente\", \"perfecto\", \"perfecto\", \"perfecto\", \"perfecto\", \"perfecto\", \"perlas\", \"perlas\", \"peso\", \"peso\", \"peso\", \"piedra\", \"piedras\", \"piedras\", \"piel\", \"pienso\", \"pienso\", \"plata\", \"plata\", \"plata\", \"plata\", \"play\", \"plazo\", \"plazo\", \"pl\\u00e1stico\", \"pl\\u00e1stico\", \"pl\\u00e1stico\", \"pone\", \"pone\", \"pone\", \"ponen\", \"ponen\", \"poner\", \"poner\", \"poner\", \"poner\", \"poner\", \"precio\", \"precio\", \"precio\", \"precio\", \"precio\", \"preciosa\", \"precioso\", \"preciosos\", \"preciosos\", \"presentaci\\u00f3n\", \"prime\", \"primero\", \"primero\", \"problema\", \"problema\", \"problema\", \"problema\", \"problema\", \"producto\", \"producto\", \"producto\", \"producto\", \"producto\", \"ps\", \"puede\", \"puede\", \"puede\", \"puede\", \"pueden\", \"puesto\", \"puesto\", \"puesto\", \"puesto\", \"pulsera\", \"pulseras\", \"q\", \"q\", \"queda\", \"queda\", \"queda\", \"queda\", \"quedan\", \"quedan\", \"quedan\", \"quer\\u00eda\", \"quer\\u00eda\", \"quieres\", \"quiz\\u00e1\", \"quiz\\u00e1s\", \"rapido\", \"rat\\u00f3n\", \"rat\\u00f3n\", \"realmente\", \"realmente\", \"realmente\", \"recibido\", \"recibido\", \"recomendable\", \"recomendable\", \"recomendable\", \"recomendable\", \"recomendado\", \"recomendado\", \"recomendado\", \"recomiendo\", \"recomiendo\", \"recomiendo\", \"recomiendo\", \"recomiendo\", \"regalo\", \"regalo\", \"regalo\", \"regalo\", \"regalo\", \"regalo\", \"repartidor\", \"repartidor\", \"rompio\", \"rompio\", \"rota\", \"rota\", \"rota\", \"roto\", \"roto\", \"roto\", \"roto\", \"ruido\", \"ruido\", \"r\\u00e1pido\", \"r\\u00e1pido\", \"saga\", \"saga\", \"saga\", \"seg\\u00fan\", \"seg\\u00fan\", \"semanas\", \"semanas\", \"ser\", \"ser\", \"ser\", \"ser\", \"ser\", \"ser\", \"ser\", \"servicio\", \"si\", \"si\", \"si\", \"si\", \"si\", \"si\", \"siempre\", \"siempre\", \"siempre\", \"sigue\", \"sigue\", \"sirve\", \"sirve\", \"sitio\", \"sitio\", \"sitio\", \"solo\", \"solo\", \"solo\", \"solo\", \"sonido\", \"sonido\", \"sony\", \"switch\", \"switch\", \"switch\", \"s\\u00f3lo\", \"s\\u00f3lo\", \"tacto\", \"tacto\", \"tal\", \"tal\", \"tal\", \"tal\", \"tama\\u00f1o\", \"tama\\u00f1o\", \"tampoco\", \"tan\", \"tan\", \"tan\", \"tiempo\", \"tiempo\", \"tiempo\", \"tiempo\", \"tiempo\", \"tiendas\", \"tiendas\", \"toda\", \"toda\", \"todas\", \"todas\", \"todas\", \"todas\", \"todav\\u00eda\", \"totalmente\", \"totalmente\", \"totalmente\", \"tra\\u00eda\", \"usado\", \"usado\", \"usb\", \"usb\", \"uso\", \"uso\", \"vale\", \"vale\", \"vale\", \"valen\", \"ve\", \"ve\", \"ve\", \"ve\", \"ven\", \"venia\", \"venido\", \"venido\", \"ven\\u00eda\", \"ven\\u00eda\", \"ven\\u00eda\", \"ven\\u00eda\", \"veo\", \"veo\", \"veo\", \"ver\", \"ver\", \"ver\", \"verdad\", \"verdad\", \"verdad\", \"verdad\", \"verdad\", \"versi\\u00f3n\", \"versi\\u00f3n\", \"vez\", \"vez\", \"vez\", \"vez\", \"videojuegos\", \"viene\", \"viene\", \"viene\", \"viene\", \"viene\", \"viene\", \"viene\", \"vienen\", \"vienen\", \"vienen\", \"vino\", \"vino\", \"xbox\", \"xbox\", \"\\u00fanica\", \"\\u00fanico\", \"\\u00fanico\"]}, \"R\": 30, \"lambda.step\": 0.01, \"plot.opts\": {\"xlab\": \"PC1\", \"ylab\": \"PC2\"}, \"topic.order\": [3, 2, 5, 4, 1, 7, 6]};\n\nfunction LDAvis_load_lib(url, callback){\n  var s = document.createElement('script');\n  s.src = url;\n  s.async = true;\n  s.onreadystatechange = s.onload = callback;\n  s.onerror = function(){console.warn(\"failed to load library \" + url);};\n  document.getElementsByTagName(\"head\")[0].appendChild(s);\n}\n\nif(typeof(LDAvis) !== \"undefined\"){\n   // already loaded: just create the visualization\n   !function(LDAvis){\n       new LDAvis(\"#\" + \"ldavis_el2210424584489311444346326187\", ldavis_el2210424584489311444346326187_data);\n   }(LDAvis);\n}else if(typeof define === \"function\" && define.amd){\n   // require.js is available: use it to load d3/LDAvis\n   require.config({paths: {d3: \"https://d3js.org/d3.v5\"}});\n   require([\"d3\"], function(d3){\n      window.d3 = d3;\n      LDAvis_load_lib(\"https://cdn.jsdelivr.net/gh/bmabey/pyLDAvis@3.3.1/pyLDAvis/js/ldavis.v3.0.0.js\", function(){\n        new LDAvis(\"#\" + \"ldavis_el2210424584489311444346326187\", ldavis_el2210424584489311444346326187_data);\n      });\n    });\n}else{\n    // require.js not available: dynamically load d3 & LDAvis\n    LDAvis_load_lib(\"https://d3js.org/d3.v5.js\", function(){\n         LDAvis_load_lib(\"https://cdn.jsdelivr.net/gh/bmabey/pyLDAvis@3.3.1/pyLDAvis/js/ldavis.v3.0.0.js\", function(){\n                 new LDAvis(\"#\" + \"ldavis_el2210424584489311444346326187\", ldavis_el2210424584489311444346326187_data);\n            })\n         });\n}\n</script>"
     },
     "metadata": {},
     "execution_count": 15
    }
   ],
   "source": [
    "lda_display = pyLDAvis.gensim_models.prepare(model, corpus, dictionary, sort_topics=True)\n",
    "pyLDAvis.display(lda_display)"
   ]
  },
  {
   "cell_type": "markdown",
   "metadata": {},
   "source": [
    "###  `[25 pts]` Punto 3: Visualización de LDA"
   ]
  },
  {
   "cell_type": "code",
   "execution_count": 16,
   "metadata": {},
   "outputs": [],
   "source": [
    "def get_doc_top_n(text_processed, n):\n",
    "    d = dictionary.doc2bow(text_processed)\n",
    "    topics = dict(model.get_document_topics(d))\n",
    "    try:\n",
    "        return topics[n]\n",
    "    except:\n",
    "        return None\n",
    "\n",
    "for t in range(0,7):\n",
    "    top_name = f\"topic_{t}\"\n",
    "    data[top_name] = data['Pre-Processed'].apply(lambda doc: get_doc_top_n(doc, t))"
   ]
  },
  {
   "cell_type": "code",
   "execution_count": 17,
   "metadata": {},
   "outputs": [
    {
     "output_type": "stream",
     "name": "stdout",
     "text": [
      "*********************************** TOPIC 1 ***********************************\nReview #1\nEste producto no esta mal. Si se te ha roto el cargador original, puedes sustituirlo por este. Funci\n\nReview #2\nEl producto llego un dia mas tarde de lo indicado y la sorpresa fue al abrir la cajita tan mona en l\n\nReview #3\nEs un gran mando, el tacto y acabado muy bueno, la dureza de los botones y respuesta muy parecida al\n\n\n*********************************** TOPIC 2 ***********************************\nReview #1\nLLevo mucho tiempo comprando en Amazón y nunca me había pasado una cosa así. Como a otros usuarios, \n\nReview #2\nEn las imágenes de la ficha del producto aparece bien claro la imagen de la contraportada en perfect\n\nReview #3\nGolpes en la caja, un embalaje muy muy pésimo y manipulada, está completamente abierta la caja, hay \n\n\n*********************************** TOPIC 3 ***********************************\nReview #1\nBuscaba un collar para un regalo, y encontré este, con buen precio y bastante bonito y me ha sorpren\n\nReview #2\nSon unos pendientes muy bonitos y elegantes. El tamaño es el de una moneda de dos euros, quizás un p\n\nReview #3\nBastante bien. La calidad es buena, y el diseño a mi les gusto bastante. No se ve diferente a la rea\n\n\n*********************************** TOPIC 4 ***********************************\nReview #1\nSeñores: Dos veces he comprado este producto y las dos veces una de las perlas de cada compra me ha \n\nReview #2\nSupuestamente yo había comprado una edición física del juego, cuando abro la caja me encuentro solo \n\nReview #3\nEl juego lo compré de segunda mano, funciona perfectamente, sin rayajos, pero no le doy cinco estrel\n\n\n*********************************** TOPIC 5 ***********************************\nReview #1\nLos juegos vr para ps4 me dan la impresión de que vuelvo a la ps2 por lo rudimentarios. Compré éste \n\nReview #2\nLa calidad de los materiales es impecable, la consola queda muy sólida una vez dentro y apenas se mu\n\nReview #3\nBuenas, quiero poner una queja del repartidor que ha traido este pedido, ha entregado el pedido pero\n\n\n*********************************** TOPIC 6 ***********************************\nReview #1\nLe hemos comprado el juego de tenis de Mario a mi hijo y compramos estas raquetas a ver qué tal iban\n\nReview #2\nHola!!. Queria unos pendientes para llevar todos los días y no quitármelos ni para dormir. Por esa p\n\nReview #3\nMuy buenas, compramos el colgante en forma de corazón, nos ha salido defectuoso, no creo que sea de \n\n\n*********************************** TOPIC 7 ***********************************\nReview #1\nPedí un producto reacondicionado y me llegó con bastantes kilómetros (ya no es reacondicionado, sino\n\nReview #2\nSiempre escribo las reseñas meses después de comprar los productos, y tengo que decir que esta tobil\n\nReview #3\nEs cierto que es barato, pero realmente no compensa mucho. En mi caso el nunchuck no funcionó jamás.\n\n\n"
     ]
    }
   ],
   "source": [
    "for t in range(0,7):\n",
    "    print(f\"*********************************** TOPIC {t+1} ***********************************\")\n",
    "    topic = f\"topic_{t}\"\n",
    "    for i,articulo in enumerate(data.sort_values(f'topic_{t}', ascending=False)['review_body'].values[:3]):\n",
    "        print(f\"Review #{i+1}\")\n",
    "        print(articulo[:100])\n",
    "        print()\n",
    "    print()"
   ]
  },
  {
   "cell_type": "markdown",
   "metadata": {},
   "source": [
    "###  `[3 pts]` Preguntas\n",
    "\n",
    "- ¿Qué conclusiones puede sacar de los resultados de los últimos tres talleres, usando diferentes modelos pero los mismos datos?"
   ]
  },
  {
   "cell_type": "code",
   "execution_count": null,
   "metadata": {},
   "outputs": [],
   "source": [
    "Cada uno de los métodos realizados en los talleres pasados nos dan resultados diferentes dado que aun que estoy realizando los en el mismo conjunto de datos los parámetros para cada modelo han sido configurados diferente y por lo mismo me da resultados diferentes.\n",
    "\n",
    "\n",
    "Pero al analizar la información de los resultados solo diré lo que un profesor me dijo en alguna ocasión “Está utilizando una basuca para matar una cucaracha ”. \n"
   ]
  }
 ],
 "metadata": {
  "kernelspec": {
   "name": "python379jvsc74a57bd0c51d22a6e700603606d0eacc0072ee59cf10084b737a530df8cd1ae37f92a519",
   "display_name": "Python 3.7.9 64-bit (conda)"
  },
  "language_info": {
   "codemirror_mode": {
    "name": "ipython",
    "version": 3
   },
   "file_extension": ".py",
   "mimetype": "text/x-python",
   "name": "python",
   "nbconvert_exporter": "python",
   "pygments_lexer": "ipython3",
   "version": "3.7.9"
  }
 },
 "nbformat": 4,
 "nbformat_minor": 2
}